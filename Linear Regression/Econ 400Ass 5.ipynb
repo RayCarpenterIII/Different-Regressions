{
 "cells": [
  {
   "cell_type": "markdown",
   "id": "02024fb1-34a4-4259-ab54-3c53df28fb0d",
   "metadata": {},
   "source": [
    "# Linear regression on test data set for Econ 400."
   ]
  },
  {
   "cell_type": "code",
   "execution_count": 46,
   "id": "98bba84f-c2b9-4d92-801d-338e9f3138f4",
   "metadata": {},
   "outputs": [],
   "source": [
    "import pandas as pd\n",
    "import numpy as np\n",
    "from datascience import *\n",
    "import matplotlib\n",
    "%matplotlib inline\n",
    "import matplotlib.pyplot as plots"
   ]
  },
  {
   "cell_type": "code",
   "execution_count": 47,
   "id": "cb556659-b49f-43af-9b61-d9addae314b5",
   "metadata": {},
   "outputs": [
    {
     "data": {
      "text/html": [
       "<div>\n",
       "<style scoped>\n",
       "    .dataframe tbody tr th:only-of-type {\n",
       "        vertical-align: middle;\n",
       "    }\n",
       "\n",
       "    .dataframe tbody tr th {\n",
       "        vertical-align: top;\n",
       "    }\n",
       "\n",
       "    .dataframe thead th {\n",
       "        text-align: right;\n",
       "    }\n",
       "</style>\n",
       "<table border=\"1\" class=\"dataframe\">\n",
       "  <thead>\n",
       "    <tr style=\"text-align: right;\">\n",
       "      <th></th>\n",
       "      <th>students</th>\n",
       "      <th>GPA</th>\n",
       "      <th>ACT</th>\n",
       "    </tr>\n",
       "  </thead>\n",
       "  <tbody>\n",
       "    <tr>\n",
       "      <th>0</th>\n",
       "      <td>1</td>\n",
       "      <td>2.8</td>\n",
       "      <td>27</td>\n",
       "    </tr>\n",
       "    <tr>\n",
       "      <th>1</th>\n",
       "      <td>2</td>\n",
       "      <td>3.4</td>\n",
       "      <td>32</td>\n",
       "    </tr>\n",
       "    <tr>\n",
       "      <th>2</th>\n",
       "      <td>3</td>\n",
       "      <td>3.1</td>\n",
       "      <td>31</td>\n",
       "    </tr>\n",
       "    <tr>\n",
       "      <th>3</th>\n",
       "      <td>4</td>\n",
       "      <td>3.5</td>\n",
       "      <td>30</td>\n",
       "    </tr>\n",
       "    <tr>\n",
       "      <th>4</th>\n",
       "      <td>5</td>\n",
       "      <td>3.7</td>\n",
       "      <td>35</td>\n",
       "    </tr>\n",
       "  </tbody>\n",
       "</table>\n",
       "</div>"
      ],
      "text/plain": [
       "   students  GPA  ACT\n",
       "0         1  2.8   27\n",
       "1         2  3.4   32\n",
       "2         3  3.1   31\n",
       "3         4  3.5   30\n",
       "4         5  3.7   35"
      ]
     },
     "execution_count": 47,
     "metadata": {},
     "output_type": "execute_result"
    }
   ],
   "source": [
    "students = (1,2,3,4,5)\n",
    "GPA = (2.8,3.4,3.1,3.5,3.7)\n",
    "ACT = (22,27,26,25,30)\n",
    "d = {'students': [1,2,3,4,5],\n",
    "    'GPA': [2.8,3.4,3.1,3.5,3.7],\n",
    "    'ACT': [27,32,31,30,35]}\n",
    "df = pd.DataFrame(data = d)\n",
    "df"
   ]
  },
  {
   "cell_type": "markdown",
   "id": "7a5e8277-5012-4f1e-a9ae-830c54b9cba5",
   "metadata": {},
   "source": [
    "1.1"
   ]
  },
  {
   "cell_type": "code",
   "execution_count": 54,
   "id": "a393e0f7-48eb-438d-a613-845b006b03b9",
   "metadata": {},
   "outputs": [],
   "source": [
    "def linear_regression_descriptive(table, x, y):\n",
    "    xval = table[x]\n",
    "    yval= table[y]\n",
    "    \n",
    "    def correlation(table, x, y):\n",
    "        def standard_units(z):\n",
    "            \"\"\"Converts an array x to standard units\"\"\"\n",
    "            return (z - np.mean(z)) / np.std(z)\n",
    "        x_su = standard_units(x)\n",
    "        y_su = standard_units(y)\n",
    "        return np.mean(x_su * y_su)\n",
    "    correlation = correlation(table, xval, yval)\n",
    "    \n",
    "    def slope_econ(table, x_column, y_column):\n",
    "        xi = table[x_column]\n",
    "        yi = table[y_column]\n",
    "        xbar = np.average(xi)\n",
    "        ybar = np.average(yi)\n",
    "        return np.sum((xi-xbar)*(yi-ybar)) / np.sum((xi-xbar)**2)\n",
    "    slope = slope_econ(table, x, y)\n",
    "    \n",
    "    def intercept(table, x_column, y_column):\n",
    "        xi = table[x_column]\n",
    "        yi = table[y_column]\n",
    "        xbar = np.average(xi)\n",
    "        ybar = np.average(yi)\n",
    "        def slope_econ(table, x_column, y_column):\n",
    "            return np.sum((xi-xbar)*(yi-ybar)) / np.sum((xi-xbar)**2)\n",
    "        slope = slope_econ(table, x_column, y_column)\n",
    "        intercept = np.average(yi-slope*xbar)\n",
    "        return intercept\n",
    "    intercept = intercept(table,x,y)\n",
    "    \n",
    "    predicted = intercept + slope*xval\n",
    "    residuals = yval - predicted\n",
    "    MRSE = np.sqrt(np.mean(residuals**2))\n",
    "    \n",
    "    predicted_table1 = table.copy()\n",
    "    predicted_table1['predicted'] = predicted\n",
    "    predicted_table = predicted_table1.copy()\n",
    "    predicted_table['residuals'] = residuals\n",
    "    \n",
    "    #Prints the estimated regression line.\n",
    "    print('Predicted y Value =', slope, 'x', '+', intercept)\n",
    "    print('r =', correlation)\n",
    "    print('Sum of residuals =', np.sum(predicted_table['residuals']))\n",
    "    print('MRSE =', MRSE)\n",
    "    \n",
    "    #Shows the predicted data as a line and scatters the actual points.\n",
    "    plots.plot(table[x], predicted_table['predicted'])\n",
    "    plots.scatter(predicted_table[x], predicted_table[y]);\n",
    "    plots.title('Best Fit Line for Compared Data')\n",
    "    plots.xlabel(x)\n",
    "    plots.ylabel(y)\n",
    "    plots.show();\n",
    "    #Create a scatter plot that shows the residuals around the best fit line.\n",
    "    #This is to visually look to see if there is a clustered pattern.\n",
    "    #This is also to visually check to see how clustered the residuals are around the best fit.\n",
    "    xlims = make_array(min(xval), max(xval))\n",
    "    plots.plot(xlims, make_array(0, 0), color='darkblue', lw=4); \n",
    "    plots.scatter(predicted_table[x], predicted_table['residuals']);\n",
    "    plots.title('Residual Plot of Compared Data')\n",
    "    plots.xlabel(x)\n",
    "    plots.ylabel('residuals')\n",
    "    plots.show();\n",
    "    \n",
    "    return predicted_table"
   ]
  },
  {
   "cell_type": "code",
   "execution_count": 55,
   "id": "c851937b-1c59-4845-8eaf-7759998df64b",
   "metadata": {},
   "outputs": [
    {
     "name": "stdout",
     "output_type": "stream",
     "text": [
      "Predicted y Value = 1.4 x + 26.8\n",
      "r = 0.7592566023652966\n",
      "Sum of residuals = 3.552713678800501e-15\n",
      "MRSE = 1.6970562748477136\n"
     ]
    },
    {
     "data": {
      "image/png": "[encoded data removed]",
      "text/plain": [
       "<Figure size 432x288 with 1 Axes>"
      ]
     },
     "metadata": {
      "needs_background": "light"
     },
     "output_type": "display_data"
    },
    {
     "data": {
      "image/png": "[encoded data removed]",
      "text/plain": [
       "<Figure size 432x288 with 1 Axes>"
      ]
     },
     "metadata": {
      "needs_background": "light"
     },
     "output_type": "display_data"
    },
    {
     "data": {
      "text/html": [
       "<div>\n",
       "<style scoped>\n",
       "    .dataframe tbody tr th:only-of-type {\n",
       "        vertical-align: middle;\n",
       "    }\n",
       "\n",
       "    .dataframe tbody tr th {\n",
       "        vertical-align: top;\n",
       "    }\n",
       "\n",
       "    .dataframe thead th {\n",
       "        text-align: right;\n",
       "    }\n",
       "</style>\n",
       "<table border=\"1\" class=\"dataframe\">\n",
       "  <thead>\n",
       "    <tr style=\"text-align: right;\">\n",
       "      <th></th>\n",
       "      <th>students</th>\n",
       "      <th>GPA</th>\n",
       "      <th>ACT</th>\n",
       "      <th>predicted</th>\n",
       "      <th>residuals</th>\n",
       "    </tr>\n",
       "  </thead>\n",
       "  <tbody>\n",
       "    <tr>\n",
       "      <th>0</th>\n",
       "      <td>1</td>\n",
       "      <td>2.8</td>\n",
       "      <td>27</td>\n",
       "      <td>28.2</td>\n",
       "      <td>-1.2</td>\n",
       "    </tr>\n",
       "    <tr>\n",
       "      <th>1</th>\n",
       "      <td>2</td>\n",
       "      <td>3.4</td>\n",
       "      <td>32</td>\n",
       "      <td>29.6</td>\n",
       "      <td>2.4</td>\n",
       "    </tr>\n",
       "    <tr>\n",
       "      <th>2</th>\n",
       "      <td>3</td>\n",
       "      <td>3.1</td>\n",
       "      <td>31</td>\n",
       "      <td>31.0</td>\n",
       "      <td>0.0</td>\n",
       "    </tr>\n",
       "    <tr>\n",
       "      <th>3</th>\n",
       "      <td>4</td>\n",
       "      <td>3.5</td>\n",
       "      <td>30</td>\n",
       "      <td>32.4</td>\n",
       "      <td>-2.4</td>\n",
       "    </tr>\n",
       "    <tr>\n",
       "      <th>4</th>\n",
       "      <td>5</td>\n",
       "      <td>3.7</td>\n",
       "      <td>35</td>\n",
       "      <td>33.8</td>\n",
       "      <td>1.2</td>\n",
       "    </tr>\n",
       "  </tbody>\n",
       "</table>\n",
       "</div>"
      ],
      "text/plain": [
       "   students  GPA  ACT  predicted  residuals\n",
       "0         1  2.8   27       28.2       -1.2\n",
       "1         2  3.4   32       29.6        2.4\n",
       "2         3  3.1   31       31.0        0.0\n",
       "3         4  3.5   30       32.4       -2.4\n",
       "4         5  3.7   35       33.8        1.2"
      ]
     },
     "execution_count": 55,
     "metadata": {},
     "output_type": "execute_result"
    }
   ],
   "source": [
    "linear_regression_descriptive(df, 'students', 'ACT')"
   ]
  },
  {
   "cell_type": "code",
   "execution_count": null,
   "id": "d11ed48e-2c35-4978-871d-0c09cb7e1b08",
   "metadata": {},
   "outputs": [],
   "source": []
  },
  {
   "cell_type": "code",
   "execution_count": null,
   "id": "14bd766f-9025-4051-89f3-407463ecdb40",
   "metadata": {},
   "outputs": [],
   "source": []
  }
 ],
 "metadata": {
  "kernelspec": {
   "display_name": "Python 3",
   "language": "python",
   "name": "python3"
  },
  "language_info": {
   "codemirror_mode": {
    "name": "ipython",
    "version": 3
   },
   "file_extension": ".py",
   "mimetype": "text/x-python",
   "name": "python",
   "nbconvert_exporter": "python",
   "pygments_lexer": "ipython3",
   "version": "3.8.8"
  }
 },
 "nbformat": 4,
 "nbformat_minor": 5
}
