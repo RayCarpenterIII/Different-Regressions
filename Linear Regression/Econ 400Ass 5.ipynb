{
 "cells": [
  {
   "cell_type": "markdown",
   "id": "02024fb1-34a4-4259-ab54-3c53df28fb0d",
   "metadata": {},
   "source": [
    "# Linear regression on test data set for Econ 400."
   ]
  },
  {
   "cell_type": "code",
   "execution_count": 46,
   "id": "98bba84f-c2b9-4d92-801d-338e9f3138f4",
   "metadata": {},
   "outputs": [],
   "source": [
    "import pandas as pd\n",
    "import numpy as np\n",
    "from datascience import *\n",
    "import matplotlib\n",
    "%matplotlib inline\n",
    "import matplotlib.pyplot as plots"
   ]
  },
  {
   "cell_type": "code",
   "execution_count": 80,
   "id": "cb556659-b49f-43af-9b61-d9addae314b5",
   "metadata": {},
   "outputs": [
    {
     "data": {
      "text/html": [
       "<div>\n",
       "<style scoped>\n",
       "    .dataframe tbody tr th:only-of-type {\n",
       "        vertical-align: middle;\n",
       "    }\n",
       "\n",
       "    .dataframe tbody tr th {\n",
       "        vertical-align: top;\n",
       "    }\n",
       "\n",
       "    .dataframe thead th {\n",
       "        text-align: right;\n",
       "    }\n",
       "</style>\n",
       "<table border=\"1\" class=\"dataframe\">\n",
       "  <thead>\n",
       "    <tr style=\"text-align: right;\">\n",
       "      <th></th>\n",
       "      <th>students</th>\n",
       "      <th>GPA</th>\n",
       "      <th>ACT</th>\n",
       "    </tr>\n",
       "  </thead>\n",
       "  <tbody>\n",
       "    <tr>\n",
       "      <th>0</th>\n",
       "      <td>1</td>\n",
       "      <td>2.8</td>\n",
       "      <td>27</td>\n",
       "    </tr>\n",
       "    <tr>\n",
       "      <th>1</th>\n",
       "      <td>2</td>\n",
       "      <td>3.4</td>\n",
       "      <td>32</td>\n",
       "    </tr>\n",
       "    <tr>\n",
       "      <th>2</th>\n",
       "      <td>3</td>\n",
       "      <td>3.1</td>\n",
       "      <td>31</td>\n",
       "    </tr>\n",
       "    <tr>\n",
       "      <th>3</th>\n",
       "      <td>4</td>\n",
       "      <td>3.5</td>\n",
       "      <td>30</td>\n",
       "    </tr>\n",
       "    <tr>\n",
       "      <th>4</th>\n",
       "      <td>5</td>\n",
       "      <td>3.7</td>\n",
       "      <td>35</td>\n",
       "    </tr>\n",
       "  </tbody>\n",
       "</table>\n",
       "</div>"
      ],
      "text/plain": [
       "   students  GPA  ACT\n",
       "0         1  2.8   27\n",
       "1         2  3.4   32\n",
       "2         3  3.1   31\n",
       "3         4  3.5   30\n",
       "4         5  3.7   35"
      ]
     },
     "execution_count": 80,
     "metadata": {},
     "output_type": "execute_result"
    }
   ],
   "source": [
    "students = (1,2,3,4,5)\n",
    "GPA = (2.8,3.4,3.1,3.5,3.7)\n",
    "ACT = (22,27,26,25,30)\n",
    "ACT_plus = (27,32,31,30,35)\n",
    "d = {'students': [1,2,3,4,5],\n",
    "    'GPA': [2.8,3.4,3.1,3.5,3.7],\n",
    "    'ACT': ACT_plus}\n",
    "df = pd.DataFrame(data = d)\n",
    "df"
   ]
  },
  {
   "cell_type": "markdown",
   "id": "7a5e8277-5012-4f1e-a9ae-830c54b9cba5",
   "metadata": {},
   "source": [
    "1.1"
   ]
  },
  {
   "cell_type": "code",
   "execution_count": 76,
   "id": "a393e0f7-48eb-438d-a613-845b006b03b9",
   "metadata": {},
   "outputs": [],
   "source": [
    "def linear_regression_descriptive(table, x, y):\n",
    "    xval = table[x]\n",
    "    yval= table[y]\n",
    "    \n",
    "    def correlation(table, x, y):\n",
    "        def standard_units(z):\n",
    "            \"\"\"Converts an array x to standard units\"\"\"\n",
    "            return (z - np.mean(z)) / np.std(z)\n",
    "        x_su = standard_units(x)\n",
    "        y_su = standard_units(y)\n",
    "        return np.mean(x_su * y_su)\n",
    "    correlation = correlation(table, xval, yval)\n",
    "    \n",
    "    def slope_econ(table, x_column, y_column):\n",
    "        xi = table[x_column]\n",
    "        yi = table[y_column]\n",
    "        xbar = np.average(xi)\n",
    "        ybar = np.average(yi)\n",
    "        return np.sum((xi-xbar)*(yi-ybar)) / np.sum((xi-xbar)**2)\n",
    "    slope = slope_econ(table, x, y)\n",
    "    \n",
    "    def intercept(table, x_column, y_column):\n",
    "        xi = table[x_column]\n",
    "        yi = table[y_column]\n",
    "        xbar = np.average(xi)\n",
    "        ybar = np.average(yi)\n",
    "        def slope_econ(table, x_column, y_column):\n",
    "            return np.sum((xi-xbar)*(yi-ybar)) / np.sum((xi-xbar)**2)\n",
    "        slope = slope_econ(table, x_column, y_column)\n",
    "        intercept = np.average(yi-slope*xbar)\n",
    "        return intercept\n",
    "    intercept = intercept(table,x,y)\n",
    "    \n",
    "    predicted = intercept + slope*xval\n",
    "    residuals = yval - predicted\n",
    "    MRSE = np.sqrt(np.mean(residuals**2))\n",
    "    \n",
    "    predicted_table1 = table.copy()\n",
    "    predicted_table1['predicted'] = predicted\n",
    "    predicted_table = predicted_table1.copy()\n",
    "    predicted_table['residuals'] = residuals\n",
    "    \n",
    "    #Prints the estimated regression line.\n",
    "    print('Predicted y Value =', slope, 'x', '+', intercept)\n",
    "    print('r =', correlation)\n",
    "    print('Sum of residuals =', np.sum(predicted_table['residuals']))\n",
    "    print('MRSE =', MRSE)\n",
    "    \n",
    "    #Shows the predicted data as a line and scatters the actual points.\n",
    "    plots.plot(table[x], predicted_table['predicted'])\n",
    "    plots.scatter(predicted_table[x], predicted_table[y]);\n",
    "    plots.title('Best Fit Line for Compared Data')\n",
    "    plots.xlabel(x)\n",
    "    plots.ylabel(y)\n",
    "    plots.show();\n",
    "    #Create a scatter plot that shows the residuals around the best fit line.\n",
    "    #This is to visually look to see if there is a clustered pattern.\n",
    "    #This is also to visually check to see how clustered the residuals are around the best fit.\n",
    "    xlims = make_array(min(xval), max(xval))\n",
    "    plots.plot(xlims, make_array(0, 0), color='darkblue', lw=4); \n",
    "    plots.scatter(predicted_table[x], predicted_table['residuals']);\n",
    "    plots.title('Residual Plot of Compared Data')\n",
    "    plots.xlabel(x)\n",
    "    plots.ylabel('residuals')\n",
    "    plots.show();\n",
    "    \n",
    "    return predicted_table"
   ]
  },
  {
   "cell_type": "code",
   "execution_count": 110,
   "id": "c851937b-1c59-4845-8eaf-7759998df64b",
   "metadata": {},
   "outputs": [
    {
     "name": "stdout",
     "output_type": "stream",
     "text": [
      "Predicted y Value = 0.10294117647058827 x + 0.10882352941176361\n",
      "r = 0.8488746876271653\n",
      "Sum of residuals = 8.881784197001252e-16\n",
      "MRSE = 0.16715614398097436\n"
     ]
    },
    {
     "data": {
      "image/png": "[encoded data removed]",
      "text/plain": [
       "<Figure size 432x288 with 1 Axes>"
      ]
     },
     "metadata": {
      "needs_background": "light"
     },
     "output_type": "display_data"
    },
    {
     "data": {
      "image/png": "[encoded data removed]",
      "text/plain": [
       "<Figure size 432x288 with 1 Axes>"
      ]
     },
     "metadata": {
      "needs_background": "light"
     },
     "output_type": "display_data"
    }
   ],
   "source": [
    "predicted = linear_regression_descriptive(df, 'ACT', 'GPA')"
   ]
  },
  {
   "cell_type": "code",
   "execution_count": 113,
   "id": "bc6aa1a2-9e28-453e-a2f9-be0d761a2996",
   "metadata": {},
   "outputs": [
    {
     "data": {
      "text/plain": [
       "8.881784197001252e-16"
      ]
     },
     "execution_count": 113,
     "metadata": {},
     "output_type": "execute_result"
    }
   ],
   "source": [
    "np.sum(predicted['residuals'])"
   ]
  },
  {
   "cell_type": "code",
   "execution_count": 82,
   "id": "7b2e0b6e-4258-47e1-bb26-7699d6bac411",
   "metadata": {},
   "outputs": [
    {
     "name": "stdout",
     "output_type": "stream",
     "text": [
      "Predicted y Value = 0.10294117647058827 x + 0.10882352941176361\n",
      "r = 0.8488746876271653\n",
      "Sum of residuals = 8.881784197001252e-16\n",
      "MRSE = 0.16715614398097436\n"
     ]
    },
    {
     "data": {
      "image/png": "[encoded data removed]",
      "text/plain": [
       "<Figure size 432x288 with 1 Axes>"
      ]
     },
     "metadata": {
      "needs_background": "light"
     },
     "output_type": "display_data"
    },
    {
     "data": {
      "image/png": "[encoded data removed]",
      "text/plain": [
       "<Figure size 432x288 with 1 Axes>"
      ]
     },
     "metadata": {
      "needs_background": "light"
     },
     "output_type": "display_data"
    },
    {
     "data": {
      "text/html": [
       "<div>\n",
       "<style scoped>\n",
       "    .dataframe tbody tr th:only-of-type {\n",
       "        vertical-align: middle;\n",
       "    }\n",
       "\n",
       "    .dataframe tbody tr th {\n",
       "        vertical-align: top;\n",
       "    }\n",
       "\n",
       "    .dataframe thead th {\n",
       "        text-align: right;\n",
       "    }\n",
       "</style>\n",
       "<table border=\"1\" class=\"dataframe\">\n",
       "  <thead>\n",
       "    <tr style=\"text-align: right;\">\n",
       "      <th></th>\n",
       "      <th>students</th>\n",
       "      <th>GPA</th>\n",
       "      <th>ACT</th>\n",
       "      <th>predicted</th>\n",
       "      <th>residuals</th>\n",
       "    </tr>\n",
       "  </thead>\n",
       "  <tbody>\n",
       "    <tr>\n",
       "      <th>0</th>\n",
       "      <td>1</td>\n",
       "      <td>2.8</td>\n",
       "      <td>27</td>\n",
       "      <td>2.888235</td>\n",
       "      <td>-0.088235</td>\n",
       "    </tr>\n",
       "    <tr>\n",
       "      <th>1</th>\n",
       "      <td>2</td>\n",
       "      <td>3.4</td>\n",
       "      <td>32</td>\n",
       "      <td>3.402941</td>\n",
       "      <td>-0.002941</td>\n",
       "    </tr>\n",
       "    <tr>\n",
       "      <th>2</th>\n",
       "      <td>3</td>\n",
       "      <td>3.1</td>\n",
       "      <td>31</td>\n",
       "      <td>3.300000</td>\n",
       "      <td>-0.200000</td>\n",
       "    </tr>\n",
       "    <tr>\n",
       "      <th>3</th>\n",
       "      <td>4</td>\n",
       "      <td>3.5</td>\n",
       "      <td>30</td>\n",
       "      <td>3.197059</td>\n",
       "      <td>0.302941</td>\n",
       "    </tr>\n",
       "    <tr>\n",
       "      <th>4</th>\n",
       "      <td>5</td>\n",
       "      <td>3.7</td>\n",
       "      <td>35</td>\n",
       "      <td>3.711765</td>\n",
       "      <td>-0.011765</td>\n",
       "    </tr>\n",
       "  </tbody>\n",
       "</table>\n",
       "</div>"
      ],
      "text/plain": [
       "   students  GPA  ACT  predicted  residuals\n",
       "0         1  2.8   27   2.888235  -0.088235\n",
       "1         2  3.4   32   3.402941  -0.002941\n",
       "2         3  3.1   31   3.300000  -0.200000\n",
       "3         4  3.5   30   3.197059   0.302941\n",
       "4         5  3.7   35   3.711765  -0.011765"
      ]
     },
     "execution_count": 82,
     "metadata": {},
     "output_type": "execute_result"
    }
   ],
   "source": [
    "linear_regression_descriptive(df, 'ACT', 'GPA')"
   ]
  },
  {
   "cell_type": "markdown",
   "id": "bfc41191-80f7-4f5d-b41e-90204415133c",
   "metadata": {},
   "source": [
    "# 2"
   ]
  },
  {
   "cell_type": "markdown",
   "id": "5959c49f-e3ee-4108-aed3-eb65c4c87a0f",
   "metadata": {},
   "source": [
    "2.1"
   ]
  },
  {
   "cell_type": "code",
   "execution_count": 58,
   "id": "db0f9f01-e14a-480a-9fcd-e2ba581399cc",
   "metadata": {},
   "outputs": [
    {
     "data": {
      "text/plain": [
       "657.86"
      ]
     },
     "execution_count": 58,
     "metadata": {},
     "output_type": "execute_result"
    }
   ],
   "source": [
    "698.9-2.28*18"
   ]
  },
  {
   "cell_type": "code",
   "execution_count": 59,
   "id": "050b3c8c-27cd-4d0d-a68c-3ca394504fcd",
   "metadata": {},
   "outputs": [
    {
     "data": {
      "text/plain": [
       "637.34"
      ]
     },
     "execution_count": 59,
     "metadata": {},
     "output_type": "execute_result"
    }
   ],
   "source": [
    "698.9-2.28*27"
   ]
  },
  {
   "cell_type": "markdown",
   "id": "384b4287-45a2-4b56-9014-f2d11f267b18",
   "metadata": {},
   "source": [
    "\n",
    "# 3"
   ]
  },
  {
   "cell_type": "markdown",
   "id": "1fdf5006-b0eb-4d29-9a7c-d14f177d4cee",
   "metadata": {},
   "source": [
    " gen shareA = expendA / (expendA+expendB)\n",
    "\n",
    "mean shareA\n",
    "\n",
    "3.1\n",
    "twoway (scatter voteA shareA) (lfit voteA shareA)\n",
    "\n"
   ]
  },
  {
   "cell_type": "code",
   "execution_count": 109,
   "id": "fea2f222-59e1-42c0-b6e4-1ad6f7162c1e",
   "metadata": {},
   "outputs": [
    {
     "data": {
      "text/plain": [
       "50.003555"
      ]
     },
     "execution_count": 109,
     "metadata": {},
     "output_type": "execute_result"
    }
   ],
   "source": [
    "26.81221 +46.38269*.5\n",
    "\n"
   ]
  },
  {
   "cell_type": "code",
   "execution_count": null,
   "id": "8d46cf40-fa3d-4e40-bdf2-22ffb6b43d01",
   "metadata": {},
   "outputs": [],
   "source": [
    "For 3.5, did everyone get 50.00?"
   ]
  },
  {
   "cell_type": "code",
   "execution_count": 67,
   "id": "73875323-6ccf-461a-b46f-7059f582a6d1",
   "metadata": {},
   "outputs": [
    {
     "data": {
      "text/plain": [
       "(50.003555, 54.641824, 59.280092999999994)"
      ]
     },
     "execution_count": 67,
     "metadata": {},
     "output_type": "execute_result"
    }
   ],
   "source": [
    "26.81221 +46.38269*.5, 26.81221 +46.38269*.6, 26.81221 +46.38269*.7"
   ]
  },
  {
   "cell_type": "code",
   "execution_count": 68,
   "id": "2d156b9e-c22e-49fa-9581-8799b92323d6",
   "metadata": {},
   "outputs": [
    {
     "data": {
      "text/plain": [
       "-4.638269000000001"
      ]
     },
     "execution_count": 68,
     "metadata": {},
     "output_type": "execute_result"
    }
   ],
   "source": [
    "50.003555 - 54.641824"
   ]
  },
  {
   "cell_type": "code",
   "execution_count": 69,
   "id": "19d02d04-1f4a-4f28-9bc3-81784ba722ec",
   "metadata": {},
   "outputs": [
    {
     "data": {
      "text/plain": [
       "-4.638268999999994"
      ]
     },
     "execution_count": 69,
     "metadata": {},
     "output_type": "execute_result"
    }
   ],
   "source": [
    "54.641824 - 59.280092999999994"
   ]
  },
  {
   "cell_type": "code",
   "execution_count": 70,
   "id": "b575b4d1-ed97-4bdd-bedc-4b20dc219392",
   "metadata": {},
   "outputs": [
    {
     "ename": "SyntaxError",
     "evalue": "cannot assign to literal (<ipython-input-70-ca4bffa98bb5>, line 1)",
     "output_type": "error",
     "traceback": [
      "\u001b[1;36m  File \u001b[1;32m\"<ipython-input-70-ca4bffa98bb5>\"\u001b[1;36m, line \u001b[1;32m1\u001b[0m\n\u001b[1;33m    60 = 26.81221 +46.38269*x\u001b[0m\n\u001b[1;37m    ^\u001b[0m\n\u001b[1;31mSyntaxError\u001b[0m\u001b[1;31m:\u001b[0m cannot assign to literal\n"
     ]
    }
   ],
   "source": [
    "60 = 26.81221 +46.38269*x\n"
   ]
  },
  {
   "cell_type": "code",
   "execution_count": 71,
   "id": "9d23caca-1bd8-4951-a6d7-fdfa1185a9eb",
   "metadata": {},
   "outputs": [
    {
     "data": {
      "text/plain": [
       "0.7155210273487804"
      ]
     },
     "execution_count": 71,
     "metadata": {},
     "output_type": "execute_result"
    }
   ],
   "source": [
    "(60-26.81221) / 46.38269"
   ]
  },
  {
   "cell_type": "markdown",
   "id": "43bd97e1-7e0a-4981-b7db-a84c82854019",
   "metadata": {},
   "source": [
    "# 4"
   ]
  },
  {
   "cell_type": "code",
   "execution_count": 72,
   "id": "1627a8c7-01e1-46cc-b49a-7e9836bbb58e",
   "metadata": {},
   "outputs": [
    {
     "ename": "NameError",
     "evalue": "name 'x' is not defined",
     "output_type": "error",
     "traceback": [
      "\u001b[1;31m---------------------------------------------------------------------------\u001b[0m",
      "\u001b[1;31mNameError\u001b[0m                                 Traceback (most recent call last)",
      "\u001b[1;32m<ipython-input-72-1b69cc7f7743>\u001b[0m in \u001b[0;36m<module>\u001b[1;34m\u001b[0m\n\u001b[1;32m----> 1\u001b[1;33m \u001b[0my\u001b[0m \u001b[1;33m=\u001b[0m \u001b[1;36m963.1913\u001b[0m \u001b[1;33m+\u001b[0m \u001b[1;36m18.50119\u001b[0m \u001b[1;33m*\u001b[0m \u001b[0mx\u001b[0m\u001b[1;33m\u001b[0m\u001b[1;33m\u001b[0m\u001b[0m\n\u001b[0m",
      "\u001b[1;31mNameError\u001b[0m: name 'x' is not defined"
     ]
    }
   ],
   "source": [
    "y = 963.1913 + 18.50119 * x"
   ]
  },
  {
   "cell_type": "code",
   "execution_count": 73,
   "id": "030f5d0a-7ddc-45fb-8766-2afaf966597f",
   "metadata": {},
   "outputs": [
    {
     "data": {
      "text/plain": [
       "1333.2151"
      ]
     },
     "execution_count": 73,
     "metadata": {},
     "output_type": "execute_result"
    }
   ],
   "source": [
    "y = 963.1913 + 18.50119 * 20\n",
    "y"
   ]
  },
  {
   "cell_type": "code",
   "execution_count": 84,
   "id": "94db0690-1f32-4368-b5a3-2471083bff72",
   "metadata": {},
   "outputs": [],
   "source": [
    "z = 963.1913 + 18.50119 * 25"
   ]
  },
  {
   "cell_type": "code",
   "execution_count": 86,
   "id": "650441fb-b766-4221-846d-75429379c427",
   "metadata": {},
   "outputs": [
    {
     "data": {
      "text/plain": [
       "92.50595000000021"
      ]
     },
     "execution_count": 86,
     "metadata": {},
     "output_type": "execute_result"
    }
   ],
   "source": [
    "z-y"
   ]
  },
  {
   "cell_type": "markdown",
   "id": "f090523f-c9ec-4195-87c2-02d784b4cf18",
   "metadata": {},
   "source": [
    "4.6\n"
   ]
  },
  {
   "cell_type": "code",
   "execution_count": 115,
   "id": "8e809f51-4d31-4953-b72b-27dedc26574c",
   "metadata": {},
   "outputs": [
    {
     "data": {
      "text/plain": [
       "-101.06045900000004"
      ]
     },
     "execution_count": 115,
     "metadata": {},
     "output_type": "execute_result"
    }
   ],
   "source": [
    "1160-(963.1913 + 18.50119 * 16.1)"
   ]
  },
  {
   "cell_type": "markdown",
   "id": "97fb9a96-c3ed-488b-888f-597966d9f492",
   "metadata": {},
   "source": [
    "4.8\n",
    "y = 963.1913+1850.119*x"
   ]
  },
  {
   "cell_type": "markdown",
   "id": "1c971bd5-baec-41a7-9b31-1d39e6d9b0c7",
   "metadata": {},
   "source": [
    "4.9"
   ]
  },
  {
   "cell_type": "code",
   "execution_count": 92,
   "id": "1395e85d-2903-4179-aa4d-51e27d26df9e",
   "metadata": {},
   "outputs": [
    {
     "data": {
      "text/plain": [
       "1333.2151"
      ]
     },
     "execution_count": 92,
     "metadata": {},
     "output_type": "execute_result"
    }
   ],
   "source": [
    "y = 963.1913+1850.119*.2\n",
    "y"
   ]
  },
  {
   "cell_type": "code",
   "execution_count": 93,
   "id": "74a21533-9492-4144-b111-3c5737b896d9",
   "metadata": {},
   "outputs": [
    {
     "data": {
      "text/plain": [
       "92.50594999999998"
      ]
     },
     "execution_count": 93,
     "metadata": {},
     "output_type": "execute_result"
    }
   ],
   "source": [
    "z = 963.1913+1850.119*.25\n",
    "z-y"
   ]
  },
  {
   "cell_type": "code",
   "execution_count": 96,
   "id": "c29db07e-d4cd-4472-9dc5-2526c828dac2",
   "metadata": {},
   "outputs": [
    {
     "data": {
      "text/plain": [
       "101.06045899999981"
      ]
     },
     "execution_count": 96,
     "metadata": {},
     "output_type": "execute_result"
    }
   ],
   "source": [
    "y = 963.1913+1850.119*.161\n",
    "y -1160"
   ]
  },
  {
   "cell_type": "markdown",
   "id": "175b3488-8bf1-4560-bd8a-465d9fe49283",
   "metadata": {},
   "source": [
    "5\n"
   ]
  },
  {
   "cell_type": "markdown",
   "id": "d2f8c583-2038-4f6b-92c7-9c4a57c0941f",
   "metadata": {},
   "source": [
    "y =  .2566717*x + 4.821997"
   ]
  },
  {
   "cell_type": "markdown",
   "id": "5d9a8dd0-20e6-4a21-99b8-21a5c35f0aa8",
   "metadata": {},
   "source": [
    "5.1"
   ]
  },
  {
   "cell_type": "code",
   "execution_count": 100,
   "id": "6ac36160-ea94-4dbd-acee-388f9e3ddcc0",
   "metadata": {},
   "outputs": [
    {
     "data": {
      "text/plain": [
       "0.025667170000000183"
      ]
     },
     "execution_count": 100,
     "metadata": {},
     "output_type": "execute_result"
    }
   ],
   "source": [
    "y1 =  .2566717*1 + 4.821997\n",
    "y2 =  .2566717*1.1 + 4.821997\n",
    "y2 - y1"
   ]
  },
  {
   "cell_type": "code",
   "execution_count": 101,
   "id": "a8a58c18-8dad-4fae-aaf3-84a6755ba24e",
   "metadata": {},
   "outputs": [
    {
     "data": {
      "text/plain": [
       "0.025667170000000003"
      ]
     },
     "execution_count": 101,
     "metadata": {},
     "output_type": "execute_result"
    }
   ],
   "source": [
    "change = .2566717*.1\n",
    "change "
   ]
  },
  {
   "cell_type": "code",
   "execution_count": 103,
   "id": "3cb69524-4012-4391-a097-2d8d36316a3c",
   "metadata": {},
   "outputs": [
    {
     "data": {
      "text/plain": [
       "3000000"
      ]
     },
     "execution_count": 103,
     "metadata": {},
     "output_type": "execute_result"
    }
   ],
   "source": [
    "3000000"
   ]
  },
  {
   "cell_type": "code",
   "execution_count": 106,
   "id": "d895b090-8f2c-427b-83fd-f0ec3868569a",
   "metadata": {},
   "outputs": [
    {
     "data": {
      "text/plain": [
       "770019.921997"
      ]
     },
     "execution_count": 106,
     "metadata": {},
     "output_type": "execute_result"
    }
   ],
   "source": [
    "y3 =  .2566717*3000000 + 4.821997\n",
    "y3"
   ]
  },
  {
   "cell_type": "code",
   "execution_count": null,
   "id": "7ec38a26-6615-42a9-830c-c16305fb80bd",
   "metadata": {},
   "outputs": [],
   "source": []
  }
 ],
 "metadata": {
  "kernelspec": {
   "display_name": "Python 3",
   "language": "python",
   "name": "python3"
  },
  "language_info": {
   "codemirror_mode": {
    "name": "ipython",
    "version": 3
   },
   "file_extension": ".py",
   "mimetype": "text/x-python",
   "name": "python",
   "nbconvert_exporter": "python",
   "pygments_lexer": "ipython3",
   "version": "3.8.8"
  }
 },
 "nbformat": 4,
 "nbformat_minor": 5
}
