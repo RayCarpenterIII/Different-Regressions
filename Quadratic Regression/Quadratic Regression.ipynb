{
 "cells": [
  {
   "cell_type": "markdown",
   "id": "4cae36e6-066f-4149-9d64-ab8123830a17",
   "metadata": {},
   "source": [
    "# Quadratic Regression"
   ]
  },
  {
   "cell_type": "markdown",
   "id": "92604300-88b8-4f2b-b2c8-9a566e622a02",
   "metadata": {},
   "source": [
    "Minimizing a quadratic function to find a best fit line and estimate an output value."
   ]
  },
  {
   "cell_type": "code",
   "execution_count": 19,
   "id": "99f47495-f1ab-4efa-806f-db552ad114ba",
   "metadata": {},
   "outputs": [],
   "source": [
    "import pandas as pd\n",
    "import plotly.express as px\n",
    "import matplotlib\n",
    "%matplotlib inline\n",
    "import matplotlib.pyplot as plots\n",
    "import numpy as np\n",
    "from datascience import *"
   ]
  },
  {
   "cell_type": "markdown",
   "id": "53f2ee42-96de-4f66-b97c-79548e39b24d",
   "metadata": {},
   "source": [
    "For the test a simulation of shooting a rock out of a slingshot is made. With angle shot as 'angle' and 'distance' as distance. The goal is to find a best fit line using quadratic regression. "
   ]
  },
  {
   "cell_type": "markdown",
   "id": "96059c82-017c-4e3b-bcc5-8c18c55738a3",
   "metadata": {},
   "source": [
    "## Data Import and Visualization"
   ]
  },
  {
   "cell_type": "code",
   "execution_count": 20,
   "id": "73abb121-fced-422c-b857-9aa369f16565",
   "metadata": {},
   "outputs": [
    {
     "data": {
      "text/html": [
       "<div>\n",
       "<style scoped>\n",
       "    .dataframe tbody tr th:only-of-type {\n",
       "        vertical-align: middle;\n",
       "    }\n",
       "\n",
       "    .dataframe tbody tr th {\n",
       "        vertical-align: top;\n",
       "    }\n",
       "\n",
       "    .dataframe thead th {\n",
       "        text-align: right;\n",
       "    }\n",
       "</style>\n",
       "<table border=\"1\" class=\"dataframe\">\n",
       "  <thead>\n",
       "    <tr style=\"text-align: right;\">\n",
       "      <th></th>\n",
       "      <th>angle</th>\n",
       "      <th>distance</th>\n",
       "    </tr>\n",
       "  </thead>\n",
       "  <tbody>\n",
       "    <tr>\n",
       "      <th>0</th>\n",
       "      <td>0</td>\n",
       "      <td>110</td>\n",
       "    </tr>\n",
       "    <tr>\n",
       "      <th>1</th>\n",
       "      <td>5</td>\n",
       "      <td>143</td>\n",
       "    </tr>\n",
       "    <tr>\n",
       "      <th>2</th>\n",
       "      <td>10</td>\n",
       "      <td>175</td>\n",
       "    </tr>\n",
       "    <tr>\n",
       "      <th>3</th>\n",
       "      <td>15</td>\n",
       "      <td>220</td>\n",
       "    </tr>\n",
       "    <tr>\n",
       "      <th>4</th>\n",
       "      <td>20</td>\n",
       "      <td>253</td>\n",
       "    </tr>\n",
       "    <tr>\n",
       "      <th>5</th>\n",
       "      <td>25</td>\n",
       "      <td>269</td>\n",
       "    </tr>\n",
       "    <tr>\n",
       "      <th>6</th>\n",
       "      <td>30</td>\n",
       "      <td>284</td>\n",
       "    </tr>\n",
       "    <tr>\n",
       "      <th>7</th>\n",
       "      <td>35</td>\n",
       "      <td>285</td>\n",
       "    </tr>\n",
       "    <tr>\n",
       "      <th>8</th>\n",
       "      <td>40</td>\n",
       "      <td>277</td>\n",
       "    </tr>\n",
       "    <tr>\n",
       "      <th>9</th>\n",
       "      <td>45</td>\n",
       "      <td>266</td>\n",
       "    </tr>\n",
       "    <tr>\n",
       "      <th>10</th>\n",
       "      <td>50</td>\n",
       "      <td>244</td>\n",
       "    </tr>\n",
       "    <tr>\n",
       "      <th>11</th>\n",
       "      <td>55</td>\n",
       "      <td>231</td>\n",
       "    </tr>\n",
       "    <tr>\n",
       "      <th>12</th>\n",
       "      <td>60</td>\n",
       "      <td>180</td>\n",
       "    </tr>\n",
       "    <tr>\n",
       "      <th>13</th>\n",
       "      <td>65</td>\n",
       "      <td>160</td>\n",
       "    </tr>\n",
       "    <tr>\n",
       "      <th>14</th>\n",
       "      <td>70</td>\n",
       "      <td>120</td>\n",
       "    </tr>\n",
       "  </tbody>\n",
       "</table>\n",
       "</div>"
      ],
      "text/plain": [
       "    angle  distance\n",
       "0       0       110\n",
       "1       5       143\n",
       "2      10       175\n",
       "3      15       220\n",
       "4      20       253\n",
       "5      25       269\n",
       "6      30       284\n",
       "7      35       285\n",
       "8      40       277\n",
       "9      45       266\n",
       "10     50       244\n",
       "11     55       231\n",
       "12     60       180\n",
       "13     65       160\n",
       "14     70       120"
      ]
     },
     "execution_count": 20,
     "metadata": {},
     "output_type": "execute_result"
    }
   ],
   "source": [
    "#set values\n",
    "angle = np.arange(0,75,5)\n",
    "distance = (110,143,175,220,253,269,284,285,277,266,244,231,180,160,120)\n",
    "#create dataframe\n",
    "throw_angle = pd.DataFrame()\n",
    "throw_angle['angle'] = angle\n",
    "throw_angle['distance'] = distance\n",
    "#show df\n",
    "throw_angle"
   ]
  },
  {
   "cell_type": "code",
   "execution_count": 21,
   "id": "c7cb6b87-7d2f-4bda-a879-72f850f81a53",
   "metadata": {},
   "outputs": [
    {
     "data": {
      "image/png": "[encoded data removed]",
      "text/plain": [
       "<Figure size 432x288 with 1 Axes>"
      ]
     },
     "metadata": {
      "needs_background": "light"
     },
     "output_type": "display_data"
    }
   ],
   "source": [
    "plots.scatter(throw_angle['angle'], throw_angle['distance']);\n",
    "plots.show();"
   ]
  },
  {
   "cell_type": "markdown",
   "id": "c23a2021-742b-48d7-bc4e-def24b171602",
   "metadata": {},
   "source": [
    "Finding correlation will be useless in this situation due to the data not being linear. It will usually come out to a small value."
   ]
  },
  {
   "cell_type": "code",
   "execution_count": 22,
   "id": "9b728a35-4d4f-482d-9630-ed668c550610",
   "metadata": {},
   "outputs": [
    {
     "data": {
      "text/plain": [
       "0.0523413268465139"
      ]
     },
     "execution_count": 22,
     "metadata": {},
     "output_type": "execute_result"
    }
   ],
   "source": [
    "#Finds correlation between two columns in a table.\n",
    "def correlation(table, col_x, col_y):\n",
    "    def standard_units(z):\n",
    "        \"\"\"Converts an array x to standard units\"\"\"\n",
    "        return (z - np.mean(z)) / np.std(z)\n",
    "    x_su = standard_units(table[col_x])\n",
    "    y_su = standard_units(table[col_y])\n",
    "    return np.mean(x_su * y_su)\n",
    "\n",
    "correlation(throw_angle, 'angle','distance')"
   ]
  },
  {
   "cell_type": "markdown",
   "id": "b599601d-934a-4e15-9d98-46f68841f540",
   "metadata": {},
   "source": [
    "Due to the fact that there is no linear correlation, a different regression method must be used. By looking at the visualization above, a quadratic function looks like it might fit."
   ]
  },
  {
   "cell_type": "markdown",
   "id": "bd9735ca-e229-42af-9a9d-5e5f577b4c96",
   "metadata": {},
   "source": [
    "The method to find the best fit line using a quadratic function will be to minimize the Root Mean Squared Error(RMSE)."
   ]
  },
  {
   "cell_type": "code",
   "execution_count": 23,
   "id": "e1e6ed7c-65a6-406f-87cb-92a752d29988",
   "metadata": {},
   "outputs": [],
   "source": [
    "#A funciton that returns the a, b, and c values of a quadratic function that best fits the given data.\n",
    "#Takes a table, x column, and y column. The minimize function is used to find a, b, and c values\n",
    "#that minimized the RMSE.\n",
    "def quadratic_RMSE(table, x, y):\n",
    "    xv = table[x].values\n",
    "    yv = table[y].values\n",
    "    def quad_function(a,b,c):\n",
    "        quad_fit = a*(xv**2) + b*xv + c\n",
    "        #Returns RMSE given a, b, and c.\n",
    "        return np.sqrt(np.mean((yv-quad_fit)**2))\n",
    "    #minimize finds the input values that will produce a minimum output value.\n",
    "    #minimize function is from the datascience package.\n",
    "    return minimize(quad_function)"
   ]
  },
  {
   "cell_type": "code",
   "execution_count": 24,
   "id": "de1d8c98-61c1-48a8-bc86-e69690327238",
   "metadata": {},
   "outputs": [
    {
     "name": "stdout",
     "output_type": "stream",
     "text": [
      "a =  -0.14163991544812038 , b =  10.058374621645454 , c =  102.03469567294106\n"
     ]
    }
   ],
   "source": [
    "abc = quadratic_RMSE(throw_angle, 'angle', 'distance')\n",
    "print('a = ',(abc[0]), ', b = ', (abc[1]),', c = ', (abc[2]))"
   ]
  },
  {
   "cell_type": "code",
   "execution_count": 25,
   "id": "ad35f32d-0793-4f7f-a3e2-b0f0ebc8f5a3",
   "metadata": {},
   "outputs": [
    {
     "name": "stdout",
     "output_type": "stream",
     "text": [
      "Therefore, y = -0.142 x^2 + 10.058 x + 102.035\n"
     ]
    }
   ],
   "source": [
    "print('Therefore, y =',round((abc[0]),3),'x^2 +',round((abc[1]), 3),'x +',round((abc[2]),3)) "
   ]
  },
  {
   "cell_type": "markdown",
   "id": "377d1361-9b8c-449b-bc35-5baa1ead9220",
   "metadata": {},
   "source": [
    "Compute an estimated value for each row."
   ]
  },
  {
   "cell_type": "code",
   "execution_count": 26,
   "id": "24c7230f-54c1-4fd9-bd2a-02e0bd560ce0",
   "metadata": {},
   "outputs": [
    {
     "data": {
      "text/html": [
       "<div>\n",
       "<style scoped>\n",
       "    .dataframe tbody tr th:only-of-type {\n",
       "        vertical-align: middle;\n",
       "    }\n",
       "\n",
       "    .dataframe tbody tr th {\n",
       "        vertical-align: top;\n",
       "    }\n",
       "\n",
       "    .dataframe thead th {\n",
       "        text-align: right;\n",
       "    }\n",
       "</style>\n",
       "<table border=\"1\" class=\"dataframe\">\n",
       "  <thead>\n",
       "    <tr style=\"text-align: right;\">\n",
       "      <th></th>\n",
       "      <th>angle</th>\n",
       "      <th>distance</th>\n",
       "      <th>predicted</th>\n",
       "    </tr>\n",
       "  </thead>\n",
       "  <tbody>\n",
       "    <tr>\n",
       "      <th>0</th>\n",
       "      <td>0</td>\n",
       "      <td>110</td>\n",
       "      <td>102.0</td>\n",
       "    </tr>\n",
       "    <tr>\n",
       "      <th>1</th>\n",
       "      <td>5</td>\n",
       "      <td>143</td>\n",
       "      <td>149.0</td>\n",
       "    </tr>\n",
       "    <tr>\n",
       "      <th>2</th>\n",
       "      <td>10</td>\n",
       "      <td>175</td>\n",
       "      <td>188.0</td>\n",
       "    </tr>\n",
       "    <tr>\n",
       "      <th>3</th>\n",
       "      <td>15</td>\n",
       "      <td>220</td>\n",
       "      <td>221.0</td>\n",
       "    </tr>\n",
       "    <tr>\n",
       "      <th>4</th>\n",
       "      <td>20</td>\n",
       "      <td>253</td>\n",
       "      <td>247.0</td>\n",
       "    </tr>\n",
       "    <tr>\n",
       "      <th>5</th>\n",
       "      <td>25</td>\n",
       "      <td>269</td>\n",
       "      <td>265.0</td>\n",
       "    </tr>\n",
       "    <tr>\n",
       "      <th>6</th>\n",
       "      <td>30</td>\n",
       "      <td>284</td>\n",
       "      <td>276.0</td>\n",
       "    </tr>\n",
       "    <tr>\n",
       "      <th>7</th>\n",
       "      <td>35</td>\n",
       "      <td>285</td>\n",
       "      <td>281.0</td>\n",
       "    </tr>\n",
       "    <tr>\n",
       "      <th>8</th>\n",
       "      <td>40</td>\n",
       "      <td>277</td>\n",
       "      <td>278.0</td>\n",
       "    </tr>\n",
       "    <tr>\n",
       "      <th>9</th>\n",
       "      <td>45</td>\n",
       "      <td>266</td>\n",
       "      <td>268.0</td>\n",
       "    </tr>\n",
       "    <tr>\n",
       "      <th>10</th>\n",
       "      <td>50</td>\n",
       "      <td>244</td>\n",
       "      <td>251.0</td>\n",
       "    </tr>\n",
       "    <tr>\n",
       "      <th>11</th>\n",
       "      <td>55</td>\n",
       "      <td>231</td>\n",
       "      <td>227.0</td>\n",
       "    </tr>\n",
       "    <tr>\n",
       "      <th>12</th>\n",
       "      <td>60</td>\n",
       "      <td>180</td>\n",
       "      <td>196.0</td>\n",
       "    </tr>\n",
       "    <tr>\n",
       "      <th>13</th>\n",
       "      <td>65</td>\n",
       "      <td>160</td>\n",
       "      <td>157.0</td>\n",
       "    </tr>\n",
       "    <tr>\n",
       "      <th>14</th>\n",
       "      <td>70</td>\n",
       "      <td>120</td>\n",
       "      <td>112.0</td>\n",
       "    </tr>\n",
       "  </tbody>\n",
       "</table>\n",
       "</div>"
      ],
      "text/plain": [
       "    angle  distance  predicted\n",
       "0       0       110      102.0\n",
       "1       5       143      149.0\n",
       "2      10       175      188.0\n",
       "3      15       220      221.0\n",
       "4      20       253      247.0\n",
       "5      25       269      265.0\n",
       "6      30       284      276.0\n",
       "7      35       285      281.0\n",
       "8      40       277      278.0\n",
       "9      45       266      268.0\n",
       "10     50       244      251.0\n",
       "11     55       231      227.0\n",
       "12     60       180      196.0\n",
       "13     65       160      157.0\n",
       "14     70       120      112.0"
      ]
     },
     "execution_count": 26,
     "metadata": {},
     "output_type": "execute_result"
    }
   ],
   "source": [
    "#Creates a table that adds the predicted values.\n",
    "xval = throw_angle['angle']\n",
    "throw_predict = throw_angle.copy()\n",
    "throw_predict['predicted'] = round((abc[0]*xval**2 + abc[1]*xval +abc[2]))\n",
    "throw_predict"
   ]
  },
  {
   "cell_type": "markdown",
   "id": "7da1a2c5-bddd-4dc5-8252-79b38d5eff5f",
   "metadata": {},
   "source": [
    "# Plot the best fit line on the data."
   ]
  },
  {
   "cell_type": "code",
   "execution_count": 87,
   "id": "f0d9bee5-dc6a-44d5-b428-08b47e21ef9f",
   "metadata": {},
   "outputs": [],
   "source": [
    "#Creates a simple graph that graphs the new predicted values on a scatter plot.\n",
    "def scatter_fit(table, x, y):\n",
    "    #Nest a function that returns an array that correlates to the a, b, and c values of a quadratic function.\n",
    "    #This quadratic function minimizes the RMSE of a quadratic function given table, x, and y.\n",
    "    #This will be used for a best fit line.\n",
    "    def quad_minimize(table, x, y):\n",
    "        xv = table[x].values\n",
    "        yv = table[y].values\n",
    "        #Determines a quadratic output given a, b, c.\n",
    "        #Values xv and yv need to be defined also.\n",
    "        def quadratic_define_and_rmse(a,b,c):\n",
    "            quad_fit = a*(xv**2) + b*xv + c\n",
    "            #Returns RMSE given a, b, and c.\n",
    "            return np.sqrt(np.mean((yv-quad_fit)**2))\n",
    "        #Minimize function determines the a, b, and c values that minimize RMSE\n",
    "        abcminimized = minimize(quadratic_define_and_rmse)\n",
    "        return abcminimized\n",
    "    abc_quad = quad_minimize(table, x, y)\n",
    "    xvalues = table[x]\n",
    "    predicted_table = table.copy()\n",
    "    #Compute the predicted value for every x and add it to the table.\n",
    "    predicted_table['predicted'] = abc_quad[0]*xvalues**2 + abc_quad[1]*xvalues +abc_quad[2]\n",
    "    #Compute the residuals between predicted values and acutal values and add them to the table.\n",
    "    residual = table[y] - predicted_table['predicted']\n",
    "    predicted_table['residual'] = residual\n",
    "    #Prints the estimated regression line.\n",
    "    print('Predicted y Value =',round((abc_quad[0]),3),'x^2 +',round((abc_quad[1]), 3),'x +',round((abc_quad[2]),3))\n",
    "    #Finds and prints the RMSE of the regression.\n",
    "    abc_rmse = np.sqrt(np.average((residual)**2))\n",
    "    print('RMSE = ', np.round(abc_rmse,2))\n",
    "    #Shows the predicted data as a line and scatters the actual points.\n",
    "    plots.plot(table[x], predicted_table['predicted'])\n",
    "    plots.scatter(predicted_table[x], predicted_table[y]);\n",
    "    plots.title('Best Fit Line for Compared Data')\n",
    "    plots.xlabel(x)\n",
    "    plots.ylabel(y)\n",
    "    plots.show();\n",
    "    #Create a scatter plot that shows the residuals around the best fit line.\n",
    "    #This is to visually look to see if there is a clustered pattern.\n",
    "    #This is also to visually check to see how clustered the residuals are around the best fit.\n",
    "    xlims = make_array(min(xvalues), max(xvalues))\n",
    "    plots.plot(xlims, make_array(0, 0), color='darkblue', lw=4); \n",
    "    plots.scatter(predicted_table[x], predicted_table['residual']);\n",
    "    plots.title('Residual Plot of Compared Data')\n",
    "    plots.xlabel(x)\n",
    "    plots.ylabel('residual')\n",
    "    plots.show();"
   ]
  },
  {
   "cell_type": "code",
   "execution_count": 88,
   "id": "a7feef1e-7aaf-4cb8-a630-7fa79b7f1ac7",
   "metadata": {},
   "outputs": [
    {
     "name": "stdout",
     "output_type": "stream",
     "text": [
      "Predicted y Value = -0.142 x^2 + 10.058 x + 102.035\n",
      "RMSE =  7.29\n"
     ]
    },
    {
     "data": {
      "image/png": "[encoded data removed]",
      "text/plain": [
       "<Figure size 432x288 with 1 Axes>"
      ]
     },
     "metadata": {
      "needs_background": "light"
     },
     "output_type": "display_data"
    },
    {
     "data": {
      "image/png": "[encoded data removed]",
      "text/plain": [
       "<Figure size 432x288 with 1 Axes>"
      ]
     },
     "metadata": {
      "needs_background": "light"
     },
     "output_type": "display_data"
    }
   ],
   "source": [
    "scatter_fit(throw_predict, 'angle', 'distance');"
   ]
  },
  {
   "cell_type": "code",
   "execution_count": null,
   "id": "64417a1e-95a1-4571-ad9b-a32777d64e90",
   "metadata": {},
   "outputs": [],
   "source": []
  }
 ],
 "metadata": {
  "kernelspec": {
   "display_name": "Python 3",
   "language": "python",
   "name": "python3"
  },
  "language_info": {
   "codemirror_mode": {
    "name": "ipython",
    "version": 3
   },
   "file_extension": ".py",
   "mimetype": "text/x-python",
   "name": "python",
   "nbconvert_exporter": "python",
   "pygments_lexer": "ipython3",
   "version": "3.8.8"
  }
 },
 "nbformat": 4,
 "nbformat_minor": 5
}
