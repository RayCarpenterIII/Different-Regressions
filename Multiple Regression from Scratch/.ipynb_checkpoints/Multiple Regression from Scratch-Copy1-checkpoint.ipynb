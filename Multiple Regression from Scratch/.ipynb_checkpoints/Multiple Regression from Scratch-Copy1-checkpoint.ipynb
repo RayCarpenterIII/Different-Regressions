{
 "cells": [
  {
   "cell_type": "markdown",
   "id": "6f4c4878-f9c5-4fa2-bf5a-695861fb7161",
   "metadata": {},
   "source": [
    "# Multiple Regression from Scratch"
   ]
  },
  {
   "cell_type": "markdown",
   "id": "662dddcd-bc56-4c88-ba17-6478fe18609e",
   "metadata": {},
   "source": [
    "This is to build a multiple regression model from scratch using the minimize command from the datascience package."
   ]
  },
  {
   "cell_type": "markdown",
   "id": "6d44a966-a415-44c3-877a-49178c13c319",
   "metadata": {},
   "source": [
    "### Load packages and dataset|"
   ]
  },
  {
   "cell_type": "code",
   "execution_count": 3,
   "id": "83b8ade3-a7f5-4c77-8968-2a347e7a9418",
   "metadata": {},
   "outputs": [
    {
     "data": {
      "text/html": [
       "<table border=\"1\" class=\"dataframe\">\n",
       "    <thead>\n",
       "        <tr>\n",
       "            <th>Gender</th> <th>ClassYear</th> <th>LarkOwl</th> <th>NumEarlyClass</th> <th>EarlyClass</th> <th>GPA</th> <th>ClassesMissed</th> <th>CognitionZscore</th> <th>PoorSleepQuality</th> <th>DepressionScore</th> <th>AnxietyScore</th> <th>StressScore</th> <th>DepressionStatus</th> <th>AnxietyStatus</th> <th>Stress</th> <th>DASScore</th> <th>Happiness</th> <th>AlcoholUse</th> <th>Drinks</th> <th>WeekdayBed</th> <th>WeekdayRise</th> <th>WeekdaySleep</th> <th>WeekendBed</th> <th>WeekendRise</th> <th>WeekendSleep</th> <th>AverageSleep</th> <th>AllNighter</th>\n",
       "        </tr>\n",
       "    </thead>\n",
       "    <tbody>\n",
       "        <tr>\n",
       "            <td>0     </td> <td>4        </td> <td>Neither</td> <td>0            </td> <td>0         </td> <td>3.6 </td> <td>0            </td> <td>-0.26          </td> <td>4               </td> <td>4              </td> <td>3           </td> <td>8          </td> <td>normal          </td> <td>normal       </td> <td>normal</td> <td>15      </td> <td>28       </td> <td>Moderate  </td> <td>10    </td> <td>25.75     </td> <td>8.7        </td> <td>7.7         </td> <td>25.75     </td> <td>9.5        </td> <td>5.88        </td> <td>7.18        </td> <td>0         </td>\n",
       "        </tr>\n",
       "        <tr>\n",
       "            <td>0     </td> <td>4        </td> <td>Neither</td> <td>2            </td> <td>1         </td> <td>3.24</td> <td>0            </td> <td>1.39           </td> <td>6               </td> <td>1              </td> <td>0           </td> <td>3          </td> <td>normal          </td> <td>normal       </td> <td>normal</td> <td>4       </td> <td>25       </td> <td>Moderate  </td> <td>6     </td> <td>25.7      </td> <td>8.2        </td> <td>6.8         </td> <td>26        </td> <td>10         </td> <td>7.25        </td> <td>6.93        </td> <td>0         </td>\n",
       "        </tr>\n",
       "        <tr>\n",
       "            <td>0     </td> <td>4        </td> <td>Owl    </td> <td>0            </td> <td>0         </td> <td>2.97</td> <td>12           </td> <td>0.38           </td> <td>18              </td> <td>18             </td> <td>18          </td> <td>9          </td> <td>moderate        </td> <td>severe       </td> <td>normal</td> <td>45      </td> <td>17       </td> <td>Light     </td> <td>3     </td> <td>27.44     </td> <td>6.55       </td> <td>3           </td> <td>28        </td> <td>12.59      </td> <td>10.09       </td> <td>5.02        </td> <td>0         </td>\n",
       "        </tr>\n",
       "        <tr>\n",
       "            <td>0     </td> <td>1        </td> <td>Lark   </td> <td>5            </td> <td>1         </td> <td>3.76</td> <td>0            </td> <td>1.39           </td> <td>9               </td> <td>1              </td> <td>4           </td> <td>6          </td> <td>normal          </td> <td>normal       </td> <td>normal</td> <td>11      </td> <td>32       </td> <td>Light     </td> <td>2     </td> <td>23.5      </td> <td>7.17       </td> <td>6.77        </td> <td>27        </td> <td>8          </td> <td>7.25        </td> <td>6.9         </td> <td>0         </td>\n",
       "        </tr>\n",
       "        <tr>\n",
       "            <td>0     </td> <td>4        </td> <td>Owl    </td> <td>0            </td> <td>0         </td> <td>3.2 </td> <td>4            </td> <td>1.22           </td> <td>9               </td> <td>7              </td> <td>25          </td> <td>14         </td> <td>normal          </td> <td>severe       </td> <td>normal</td> <td>46      </td> <td>15       </td> <td>Moderate  </td> <td>4     </td> <td>25.9      </td> <td>8.67       </td> <td>6.09        </td> <td>23.75     </td> <td>9.5        </td> <td>7           </td> <td>6.35        </td> <td>0         </td>\n",
       "        </tr>\n",
       "    </tbody>\n",
       "</table>\n",
       "<p>... (248 rows omitted)</p>"
      ],
      "text/plain": [
       "<IPython.core.display.HTML object>"
      ]
     },
     "metadata": {},
     "output_type": "display_data"
    }
   ],
   "source": [
    "from datascience import *\n",
    "import numpy as np\n",
    "\n",
    "\n",
    "import matplotlib\n",
    "%matplotlib inline\n",
    "import matplotlib.pyplot as plt\n",
    "plt.style.use('fivethirtyeight')\n",
    "\n",
    "df = Table.read_table('SleepStudy.csv')\n",
    "df.show(5)"
   ]
  },
  {
   "cell_type": "markdown",
   "id": "2535d21d-c3d4-4efc-81d0-02518a0ee20c",
   "metadata": {},
   "source": [
    "# Create a function that finds Mean Squared Error based on give coefficients"
   ]
  },
  {
   "cell_type": "markdown",
   "id": "2e0b0728-d214-4e7a-919e-4e9deae0100f",
   "metadata": {},
   "source": [
    "For this study, we will see if we can determine the Happiness variable given LarkOwl, GPA, PoorSleepQuality, DepressionScore, and AverageSleep Score."
   ]
  },
  {
   "cell_type": "code",
   "execution_count": 36,
   "id": "f9cc2f56-476e-4280-97c4-496ea57d7e1a",
   "metadata": {},
   "outputs": [],
   "source": [
    "#Build a function that takes in a chosen number of variables to have their coefficients minimized.\n",
    "#This one takes 5.\n",
    "def multiple_regression(B1, B2, B3, B4, B5, B0):\n",
    "    #Create array of each variable\n",
    "    x1 = df.column('DASScore')\n",
    "    x2 = df.column('GPA')\n",
    "    x3 = df.column('PoorSleepQuality')\n",
    "    x4 = df.column('Drinks')\n",
    "    x5 = df.column('AverageSleep')\n",
    "    y = df.column('Happiness')\n",
    "    #Regression Function to be minimized\n",
    "    fitted = B1*x1 + B2*x2 + B3*x3 + B4*x4 + B5*x5 + B0\n",
    "    #returns Mean Squared Error\n",
    "    return np.mean((y-fitted)**2)"
   ]
  },
  {
   "cell_type": "markdown",
   "id": "4abebb76-291b-45f6-8279-ecbfa957ee89",
   "metadata": {},
   "source": [
    "### Minimize the function for finding MSE"
   ]
  },
  {
   "cell_type": "code",
   "execution_count": 38,
   "id": "90d241fe-2871-48d8-b33e-85653ff09421",
   "metadata": {},
   "outputs": [
    {
     "data": {
      "text/plain": [
       "array([-0.13863724,  0.18186849, -0.28461076, -0.13722481,  0.18866189,\n",
       "       29.34109947])"
      ]
     },
     "execution_count": 38,
     "metadata": {},
     "output_type": "execute_result"
    }
   ],
   "source": [
    "coefficients = minimize(multiple_regression)\n",
    "coefficients"
   ]
  },
  {
   "cell_type": "markdown",
   "id": "b341a598-d78a-477c-bcdb-2737da45766d",
   "metadata": {},
   "source": [
    "# Prints the regression function"
   ]
  },
  {
   "cell_type": "code",
   "execution_count": 52,
   "id": "8c8a87b3-ffab-4cd1-b446-9ced2cf0ee71",
   "metadata": {},
   "outputs": [
    {
     "name": "stdout",
     "output_type": "stream",
     "text": [
      "y = -0.14 * DASScore + 0.18 * GPA + -0.28 * PoorSleepQuality + -0.14 * Drinks + 0.19 * AverageSleep + 29.34\n"
     ]
    }
   ],
   "source": [
    "print('y =', np.round(coefficients.item(0), 2),'* DASScore +', np.round(coefficients.item(1), 2), '* GPA +', np.round(coefficients.item(2), 2), '* PoorSleepQuality +', np.round(coefficients.item(3), 2), '* Drinks +', np.round(coefficients.item(4), 2), '* AverageSleep +', np.round(coefficients.item(5), 2))"
   ]
  }
 ],
 "metadata": {
  "kernelspec": {
   "display_name": "Python 3",
   "language": "python",
   "name": "python3"
  },
  "language_info": {
   "codemirror_mode": {
    "name": "ipython",
    "version": 3
   },
   "file_extension": ".py",
   "mimetype": "text/x-python",
   "name": "python",
   "nbconvert_exporter": "python",
   "pygments_lexer": "ipython3",
   "version": "3.8.8"
  }
 },
 "nbformat": 4,
 "nbformat_minor": 5
}
