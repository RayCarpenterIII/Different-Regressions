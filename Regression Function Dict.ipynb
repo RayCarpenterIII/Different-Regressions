{
 "cells": [
  {
   "cell_type": "markdown",
   "id": "8eb8ce1e-aa99-4549-9810-ccb1f7c7dc3b",
   "metadata": {},
   "source": [
    "# Linear Regression Function Dictionary"
   ]
  },
  {
   "cell_type": "markdown",
   "id": "5e72e6a4-e878-495d-ba86-b608157511ad",
   "metadata": {},
   "source": [
    "A repository of functions that can be used surrounding the topic of linear regression.\n",
    "<br>\n",
    "<br>Function List:\n",
    "1. Standard Unit Conversion\n",
    "    1. From Scratch\n",
    "        1. standard_units(x)\n",
    "2. Correlation\n",
    "    1. From Scratch: \n",
    "        1. correlation(table, col_x, col_y)\n",
    "    2. Pandas\n",
    "        1. df.corr()\n",
    "3. Finding Slope\n",
    "    1. From Scratch \n",
    "        1. slope(table, col_x, col_y)\n",
    "    2. Econometrics way\n",
    "        1. slope_econ(table, x_column, y_column)\n",
    "4. Finding Intercept\n",
    "    1. From Scratch\n",
    "        1. intercept(table, x_column, y_column)\n",
    "    2. Econometrics way\n",
    "        1. econ_intercept(table, x_column, y_column)\n",
    "5. Finding y using linear regression\n",
    "    1. From Scratch\n",
    "        1. find_y_est_given_x(x_value, table, x_column, y_column)\n",
    "6. Finding the best fit line\n",
    "    1. From Scratch\n",
    "        1. best_fit_line(table, x_column, y_column)\\\n",
    "7. Plottling best fint line\n",
    "    1. plotly scatter with best fit line\n",
    "        1. plotly.express.scatter(df, x = x_column, y = y_column, trendline = 'ols')\n",
    "8. Using RMSE to fit a quadratic function to a data set.\n",
    "    1. Full description\n",
    "        1. quad_fit_descriptive(throw_predict, 'angle', 'distance');"
   ]
  },
  {
   "cell_type": "code",
   "execution_count": 3,
   "id": "3586a489-ae02-41d1-b908-48e70a2b4e2c",
   "metadata": {},
   "outputs": [],
   "source": [
    "from sklearn import *\n",
    "import pandas as pd\n",
    "import numpy as np\n",
    "import plotly.express as px\n",
    "from datascience import *\n",
    "import matplotlib\n",
    "%matplotlib inline\n",
    "import matplotlib.pyplot as plots"
   ]
  },
  {
   "cell_type": "code",
   "execution_count": 4,
   "id": "e2375648-4385-4eff-8305-c19584e8d8b6",
   "metadata": {},
   "outputs": [
    {
     "data": {
      "text/html": [
       "<div>\n",
       "<style scoped>\n",
       "    .dataframe tbody tr th:only-of-type {\n",
       "        vertical-align: middle;\n",
       "    }\n",
       "\n",
       "    .dataframe tbody tr th {\n",
       "        vertical-align: top;\n",
       "    }\n",
       "\n",
       "    .dataframe thead th {\n",
       "        text-align: right;\n",
       "    }\n",
       "</style>\n",
       "<table border=\"1\" class=\"dataframe\">\n",
       "  <thead>\n",
       "    <tr style=\"text-align: right;\">\n",
       "      <th></th>\n",
       "      <th>Median Income</th>\n",
       "      <th>College%</th>\n",
       "    </tr>\n",
       "  </thead>\n",
       "  <tbody>\n",
       "    <tr>\n",
       "      <th>0</th>\n",
       "      <td>47083</td>\n",
       "      <td>24.0</td>\n",
       "    </tr>\n",
       "    <tr>\n",
       "      <th>1</th>\n",
       "      <td>42035</td>\n",
       "      <td>21.8</td>\n",
       "    </tr>\n",
       "    <tr>\n",
       "      <th>2</th>\n",
       "      <td>46544</td>\n",
       "      <td>22.8</td>\n",
       "    </tr>\n",
       "    <tr>\n",
       "      <th>3</th>\n",
       "      <td>41110</td>\n",
       "      <td>17.0</td>\n",
       "    </tr>\n",
       "    <tr>\n",
       "      <th>4</th>\n",
       "      <td>51690</td>\n",
       "      <td>30.3</td>\n",
       "    </tr>\n",
       "    <tr>\n",
       "      <th>...</th>\n",
       "      <td>...</td>\n",
       "      <td>...</td>\n",
       "    </tr>\n",
       "    <tr>\n",
       "      <th>430</th>\n",
       "      <td>68162</td>\n",
       "      <td>36.9</td>\n",
       "    </tr>\n",
       "    <tr>\n",
       "      <th>431</th>\n",
       "      <td>57129</td>\n",
       "      <td>26.4</td>\n",
       "    </tr>\n",
       "    <tr>\n",
       "      <th>432</th>\n",
       "      <td>51738</td>\n",
       "      <td>23.1</td>\n",
       "    </tr>\n",
       "    <tr>\n",
       "      <th>433</th>\n",
       "      <td>57888</td>\n",
       "      <td>25.4</td>\n",
       "    </tr>\n",
       "    <tr>\n",
       "      <th>434</th>\n",
       "      <td>59882</td>\n",
       "      <td>27.1</td>\n",
       "    </tr>\n",
       "  </tbody>\n",
       "</table>\n",
       "<p>435 rows × 2 columns</p>\n",
       "</div>"
      ],
      "text/plain": [
       "     Median Income  College%\n",
       "0            47083      24.0\n",
       "1            42035      21.8\n",
       "2            46544      22.8\n",
       "3            41110      17.0\n",
       "4            51690      30.3\n",
       "..             ...       ...\n",
       "430          68162      36.9\n",
       "431          57129      26.4\n",
       "432          51738      23.1\n",
       "433          57888      25.4\n",
       "434          59882      27.1\n",
       "\n",
       "[435 rows x 2 columns]"
      ]
     },
     "execution_count": 4,
     "metadata": {},
     "output_type": "execute_result"
    }
   ],
   "source": [
    "demographics1 = pd.read_csv(r'district_demographics2016.csv')\n",
    "demographics = demographics1.drop(columns = ['District','State','Percent voting for Clinton'])\n",
    "demographics"
   ]
  },
  {
   "attachments": {
    "62ae0fc5-7d80-405b-a574-bbf7247340b2.png": {
     "image/png": "[encoded data removed]"
    }
   },
   "cell_type": "markdown",
   "id": "6adee899-dbce-43ed-a825-75c2f49bf695",
   "metadata": {},
   "source": [
    "### 1. Standard Unit Conversion\n",
    "<br>$ z = (x-mean(x))/standard deviation $\n",
    "<br>\n",
    "<br>![image.png](attachment:62ae0fc5-7d80-405b-a574-bbf7247340b2.png)"
   ]
  },
  {
   "cell_type": "markdown",
   "id": "56c4958c-1cc0-4e8b-adca-59602a44fb6e",
   "metadata": {},
   "source": [
    "1.  From Scratch\n",
    "<br>\n",
    "<br>standard_units(x) receives an array (x) and converts it to standard units."
   ]
  },
  {
   "cell_type": "code",
   "execution_count": 38,
   "id": "29f01e9c-ab87-46ad-84ed-17f6d96cf652",
   "metadata": {},
   "outputs": [],
   "source": [
    "#converts an array into standard units.\n",
    "def standard_units(x):\n",
    "    \"\"\"Converts an array x to standard units\"\"\"\n",
    "    return (x - np.mean(x)) / np.std(x)"
   ]
  },
  {
   "cell_type": "code",
   "execution_count": 39,
   "id": "9dbe2cfa-9f01-4ee5-a796-8620feb4f8c8",
   "metadata": {},
   "outputs": [
    {
     "data": {
      "text/plain": [
       "array([-0.79297708, -1.10157493, -0.8259276 , -1.15812267, -0.51133875])"
      ]
     },
     "execution_count": 39,
     "metadata": {},
     "output_type": "execute_result"
    }
   ],
   "source": [
    "#Example\n",
    "Med_income = demographics[\"Median Income\"].values\n",
    "#list first 5 results of array.\n",
    "standard_units(Med_income)[:5]"
   ]
  },
  {
   "attachments": {
    "2a317d26-c9fd-46da-b1e2-6213678dd367.png": {
     "image/png": "[encoded data removed]"
    }
   },
   "cell_type": "markdown",
   "id": "d21efd30-b339-4493-8a01-6483068325d7",
   "metadata": {},
   "source": [
    "### 2. Correlation\n",
    "$r = average(x_standardunits * y_standardunits)$\n",
    "<br>\n",
    "<br>![image.png](attachment:2a317d26-c9fd-46da-b1e2-6213678dd367.png)"
   ]
  },
  {
   "cell_type": "markdown",
   "id": "98c05dea-2d2a-4087-bcde-1e74c7ccafc2",
   "metadata": {},
   "source": [
    "1. From Scratch, x and y defined.\n",
    "<br>\n",
    "<br>correlation(table, col_x, col_y) finds correlation between column x and y of a table."
   ]
  },
  {
   "cell_type": "code",
   "execution_count": 40,
   "id": "c5ea0a6d-ec6f-4904-be38-c41a9e44b9d3",
   "metadata": {},
   "outputs": [],
   "source": [
    "#Finds correlation between two columns in a table.\n",
    "def correlation(table, col_x, col_y):\n",
    "    def standard_units(z):\n",
    "        \"\"\"Converts an array x to standard units\"\"\"\n",
    "        return (z - np.mean(z)) / np.std(z)\n",
    "    x_su = standard_units(table[col_x])\n",
    "    y_su = standard_units(table[col_y])\n",
    "    return np.mean(x_su * y_su)"
   ]
  },
  {
   "cell_type": "code",
   "execution_count": 41,
   "id": "a2189371-da0a-4f7f-ba3a-4eb1d59ac21f",
   "metadata": {},
   "outputs": [
    {
     "data": {
      "text/plain": [
       "0.818464851714134"
      ]
     },
     "execution_count": 41,
     "metadata": {},
     "output_type": "execute_result"
    }
   ],
   "source": [
    "#Example\n",
    "correlation(demographics, 'College%', 'Median Income')"
   ]
  },
  {
   "cell_type": "markdown",
   "id": "3687589d-cb54-4516-9b2e-d844cf1ac8d1",
   "metadata": {},
   "source": [
    "2. Pandas \n",
    "<br>df.corr()\n",
    "<br> \n",
    "<br> Returns a correlation table between all numerical data.\n",
    "<br>https://pandas.pydata.org/docs/reference/api/pandas.DataFrame.corr.html"
   ]
  },
  {
   "cell_type": "code",
   "execution_count": 42,
   "id": "59fa84c0-c347-4daf-8ef3-20a06b5f8313",
   "metadata": {},
   "outputs": [
    {
     "data": {
      "text/html": [
       "<div>\n",
       "<style scoped>\n",
       "    .dataframe tbody tr th:only-of-type {\n",
       "        vertical-align: middle;\n",
       "    }\n",
       "\n",
       "    .dataframe tbody tr th {\n",
       "        vertical-align: top;\n",
       "    }\n",
       "\n",
       "    .dataframe thead th {\n",
       "        text-align: right;\n",
       "    }\n",
       "</style>\n",
       "<table border=\"1\" class=\"dataframe\">\n",
       "  <thead>\n",
       "    <tr style=\"text-align: right;\">\n",
       "      <th></th>\n",
       "      <th>Median Income</th>\n",
       "      <th>College%</th>\n",
       "    </tr>\n",
       "  </thead>\n",
       "  <tbody>\n",
       "    <tr>\n",
       "      <th>Median Income</th>\n",
       "      <td>1.000000</td>\n",
       "      <td>0.818465</td>\n",
       "    </tr>\n",
       "    <tr>\n",
       "      <th>College%</th>\n",
       "      <td>0.818465</td>\n",
       "      <td>1.000000</td>\n",
       "    </tr>\n",
       "  </tbody>\n",
       "</table>\n",
       "</div>"
      ],
      "text/plain": [
       "               Median Income  College%\n",
       "Median Income       1.000000  0.818465\n",
       "College%            0.818465  1.000000"
      ]
     },
     "execution_count": 42,
     "metadata": {},
     "output_type": "execute_result"
    }
   ],
   "source": [
    "#finds correlation between all variables in a dataframe.\n",
    "demographics.corr()"
   ]
  },
  {
   "cell_type": "markdown",
   "id": "f7802966-cb5c-49aa-82d7-4f89c163b0f0",
   "metadata": {},
   "source": [
    "### 3. Finding Slope of Linear Regression"
   ]
  },
  {
   "attachments": {
    "4e55d8bd-d85b-4ccf-95ca-2a84a61aa8fe.png": {
     "image/png": "[encoded data removed]"
    }
   },
   "cell_type": "markdown",
   "id": "96998e53-17c0-4110-80fa-7ae4797acfb6",
   "metadata": {},
   "source": [
    "1. from scratch\n",
    "\n",
    "r   ![image.png](attachment:4e55d8bd-d85b-4ccf-95ca-2a84a61aa8fe.png)"
   ]
  },
  {
   "cell_type": "code",
   "execution_count": 43,
   "id": "19b01dfb-d0ea-498a-b17f-9e3be49bcbee",
   "metadata": {},
   "outputs": [],
   "source": [
    "#Finds the slope of linear regression.\n",
    "def slope(table, col_x, col_y):\n",
    "    x = table[col_x]\n",
    "    y = table[col_y]\n",
    "    def standard_units(z):\n",
    "            \"\"\"Converts an array x to standard units\"\"\"\n",
    "            return (z - np.mean(z)) / np.std(z)\n",
    "    def correlation(table, cl_x, cl_y):\n",
    "        x_su = standard_units(x)\n",
    "        y_su = standard_units(y)\n",
    "        return np.mean(x_su * y_su)\n",
    "    r = correlation(table,x, y)\n",
    "    slope_of_xy = r * np.std(table[col_y]) / np.std(table[col_x])\n",
    "    return slope_of_xy"
   ]
  },
  {
   "cell_type": "code",
   "execution_count": 44,
   "id": "b8b76648-0fd5-42b6-bb89-7d51274a5e43",
   "metadata": {},
   "outputs": [
    {
     "data": {
      "text/plain": [
       "1270.7016894638818"
      ]
     },
     "execution_count": 44,
     "metadata": {},
     "output_type": "execute_result"
    }
   ],
   "source": [
    "slope(demographics, \"College%\", \"Median Income\")"
   ]
  },
  {
   "attachments": {
    "7ad0f312-a47d-430f-8e3d-c9579c74f6f5.png": {
     "image/png": "[encoded data removed]"
    }
   },
   "cell_type": "markdown",
   "id": "53ceb465-239a-45ae-b8b8-54b24f26723e",
   "metadata": {},
   "source": [
    "2. Econometrics way\n",
    " <br>![image.png](attachment:7ad0f312-a47d-430f-8e3d-c9579c74f6f5.png)"
   ]
  },
  {
   "cell_type": "code",
   "execution_count": 67,
   "id": "fc42db00-d2f6-4315-b6bf-b13a743fd945",
   "metadata": {},
   "outputs": [],
   "source": [
    "#Finds the slope of linear regression.\n",
    "def slope_econ(table, x_column, y_column):\n",
    "    xi = table[x_column]\n",
    "    yi = table[y_column]\n",
    "    xbar = np.average(xi)\n",
    "    ybar = np.average(yi)\n",
    "    return np.sum((xi-xbar)*(yi-ybar)) / np.sum((xi-xbar)**2)"
   ]
  },
  {
   "cell_type": "code",
   "execution_count": 68,
   "id": "06db605c-5ece-4af6-9081-14e5d5e67ad5",
   "metadata": {},
   "outputs": [
    {
     "data": {
      "text/plain": [
       "1270.7016894638803"
      ]
     },
     "execution_count": 68,
     "metadata": {},
     "output_type": "execute_result"
    }
   ],
   "source": [
    "slope_econ(demographics, \"College%\", \"Median Income\")"
   ]
  },
  {
   "cell_type": "markdown",
   "id": "21477a37-45b3-42ee-8897-b814896371e6",
   "metadata": {},
   "source": [
    "### 4. Finding the Intercept in  linear regression."
   ]
  },
  {
   "cell_type": "markdown",
   "id": "230d2557-79c0-4110-80b3-539e500fd2a2",
   "metadata": {},
   "source": [
    "1. from scratch\n",
    "<br>$average(sum(yi-slope*xbar))$"
   ]
  },
  {
   "cell_type": "code",
   "execution_count": 47,
   "id": "1e0e7252-3932-40f2-baf9-7f8ae4f51ebf",
   "metadata": {},
   "outputs": [],
   "source": [
    "#Finds the y intercept(b0) of a linear regression equation.\n",
    "def intercept(table, x_column, y_column):\n",
    "    xi = table[x_column]\n",
    "    yi = table[y_column]\n",
    "    xbar = np.average(xi)\n",
    "    ybar = np.average(yi)\n",
    "    def slope_econ(table, x_column, y_column):\n",
    "        return np.sum((xi-xbar)*(yi-ybar)) / np.sum((xi-xbar)**2)\n",
    "    slope = slope_econ(table, x_column, y_column)\n",
    "    intercept = np.average(yi-slope*xbar)\n",
    "    return intercept"
   ]
  },
  {
   "cell_type": "code",
   "execution_count": 48,
   "id": "33006063-dc46-4c36-8f01-51ee498fb67e",
   "metadata": {},
   "outputs": [
    {
     "data": {
      "text/plain": [
       "20802.577766677925"
      ]
     },
     "execution_count": 48,
     "metadata": {},
     "output_type": "execute_result"
    }
   ],
   "source": [
    "intercept(demographics, \"College%\", \"Median Income\")"
   ]
  },
  {
   "attachments": {
    "2e2d03f1-fec2-4271-99d5-5d8151cd0d47.png": {
     "image/png": "[encoded data removed]"
    }
   },
   "cell_type": "markdown",
   "id": "3cf3f2cc-1da7-4c26-aac7-597536b91b56",
   "metadata": {},
   "source": [
    "2. Econometrics way\n",
    "<br>![image.png](attachment:2e2d03f1-fec2-4271-99d5-5d8151cd0d47.png)"
   ]
  },
  {
   "cell_type": "code",
   "execution_count": 49,
   "id": "fe9dc1c3-311f-4ecd-be5d-e959b38fefc8",
   "metadata": {},
   "outputs": [],
   "source": [
    "#Finds the y intercept(b0) of a linear regression equation.\n",
    "def econ_intercept(table, x_column, y_column):\n",
    "    xi = table[x_column]\n",
    "    yi = table[y_column]\n",
    "    xbar = np.average(xi)\n",
    "    ybar = np.average(yi)\n",
    "    def slope_econ(table, x_column, y_column):\n",
    "        return np.sum((xi-xbar)*(yi-ybar)) / np.sum((xi-xbar)**2)\n",
    "    b1 = slope_econ(table, x_column, y_column)\n",
    "    return ybar - b1*xbar"
   ]
  },
  {
   "cell_type": "code",
   "execution_count": 50,
   "id": "4eaae1c6-2761-42cb-a2dc-3f82d72b9c47",
   "metadata": {},
   "outputs": [
    {
     "data": {
      "text/plain": [
       "20802.577766677918"
      ]
     },
     "execution_count": 50,
     "metadata": {},
     "output_type": "execute_result"
    }
   ],
   "source": [
    "econ_intercept(demographics, \"College%\", \"Median Income\")"
   ]
  },
  {
   "cell_type": "markdown",
   "id": "7268560f-1e93-4c41-9bae-58f11f8fdf0b",
   "metadata": {},
   "source": [
    "### 5. Finding y using linear regression."
   ]
  },
  {
   "attachments": {
    "a1131d84-2cc2-445f-8e16-d404b5da277b.png": {
     "image/png": "[encoded data removed]"
    }
   },
   "cell_type": "markdown",
   "id": "ca28ddd0-2322-40cd-b900-6cadbb2cf694",
   "metadata": {},
   "source": [
    "1. from Scratch\n",
    "<br> ![image.png](attachment:a1131d84-2cc2-445f-8e16-d404b5da277b.png)"
   ]
  },
  {
   "cell_type": "code",
   "execution_count": 51,
   "id": "8b8f9ee3-688d-4bd4-a88c-3a091d0cb5c7",
   "metadata": {},
   "outputs": [],
   "source": [
    "#returns a predicted value of y based on linear regression.\n",
    "def find_y_est_given_x(x_value, table, x_column, y_column):\n",
    "    xi = table[x_column]\n",
    "    yi = table[y_column]\n",
    "    xbar = np.average(xi)\n",
    "    ybar = np.average(yi)\n",
    "    def slope_econ(table, x_column, y_column):\n",
    "        return np.sum((xi-xbar)*(yi-ybar)) / np.sum((xi-xbar)**2)\n",
    "    b1 = slope_econ(table, x_column, y_column)\n",
    "    def econ_intercept(table, x_column, y_column):\n",
    "        b1 = slope_econ(table, x_column, y_column)\n",
    "        return ybar-b1*xbar\n",
    "    b0 = econ_intercept(table,x_column, y_column)\n",
    "    return b0 + b1*x_value"
   ]
  },
  {
   "cell_type": "code",
   "execution_count": 52,
   "id": "bbac60d0-b066-47ca-97ed-daa5cb5efda1",
   "metadata": {},
   "outputs": [
    {
     "data": {
      "text/plain": [
       "84337.66223987193"
      ]
     },
     "execution_count": 52,
     "metadata": {},
     "output_type": "execute_result"
    }
   ],
   "source": [
    "#example\n",
    "find_y_est_given_x(50, demographics, \"College%\", \"Median Income\")"
   ]
  },
  {
   "cell_type": "markdown",
   "id": "b5940581-2ccd-4ae0-85d0-8fc1d8af8c3c",
   "metadata": {},
   "source": [
    "6. Find best fit line"
   ]
  },
  {
   "cell_type": "code",
   "execution_count": 53,
   "id": "aa59ed71-fe3d-4c82-af7d-1c2604cd50d0",
   "metadata": {},
   "outputs": [],
   "source": [
    "#prints out an equation for the best fit line. Requires a dataframe and two columns to be passed.\n",
    "def best_fit_line(table, x_column, y_column):\n",
    "    xi = table[x_column]\n",
    "    yi = table[y_column]\n",
    "    xbar = np.average(xi)\n",
    "    ybar = np.average(yi)\n",
    "    def slope_econ(table, x_column, y_column):\n",
    "        return np.sum((xi-xbar)*(yi-ybar)) / np.sum((xi-xbar)**2)\n",
    "    b1 = slope_econ(table, x_column, y_column)\n",
    "    def econ_intercept(table, x_column, y_column):\n",
    "        b1 = slope_econ(table, x_column, y_column)\n",
    "        return ybar-b1*xbar\n",
    "    b0 = econ_intercept(table,x_column, y_column)\n",
    "    return print(\"y = \" , b0 , '+' , b1 , '* x')"
   ]
  },
  {
   "cell_type": "code",
   "execution_count": 54,
   "id": "3fba3d03-b194-4cd9-8d62-bdf9af98b667",
   "metadata": {},
   "outputs": [
    {
     "name": "stdout",
     "output_type": "stream",
     "text": [
      "y =  20802.577766677918 + 1270.7016894638803 * x\n"
     ]
    }
   ],
   "source": [
    "best_fit_line(demographics, \"College%\", \"Median Income\")"
   ]
  },
  {
   "cell_type": "markdown",
   "id": "e5096dcc-ba81-4028-aced-faf33154fda7",
   "metadata": {},
   "source": [
    "7. Scatter with best fit line"
   ]
  },
  {
   "cell_type": "markdown",
   "id": "9d532688-4c26-4233-97fb-a05ea9569fd4",
   "metadata": {},
   "source": [
    "1. Plotly scatter plot with best fit"
   ]
  },
  {
   "cell_type": "markdown",
   "id": "a45236d7-a1bb-4486-878b-271bc12db2ff",
   "metadata": {},
   "source": [
    "px.scatter(df, x = x_column, y = y_column, trendline = 'ols')\n",
    "<br> 'ols' stands for ordinary least squares"
   ]
  },
  {
   "cell_type": "code",
   "execution_count": 55,
   "id": "ffd828e1-6429-489d-8f24-beab8db49868",
   "metadata": {},
   "outputs": [
    {
     "data": {
      "application/vnd.plotly.v1+json": {
       "config": {
        "plotlyServerURL": "https://plot.ly"
       },
       "data": [
        {
         "hovertemplate": "College%=%{x}<br>Median Income=%{y}<extra></extra>",
         "legendgroup": "",
         "marker": {
          "color": "#636efa",
          "symbol": "circle"
         },
         "mode": "markers",
         "name": "",
         "orientation": "v",
         "showlegend": false,
         "type": "scatter",
         "x": [
          24,
          21.8,
          22.8,
          17,
          30.3,
          36.7,
          19.4,
          29.6,
          24.5,
          34,
          16.5,
          19.2,
          36,
          45.4,
          14,
          29.4,
          37.5,
          16.5,
          30,
          26.9,
          15.8,
          23.7,
          16.6,
          43.6,
          59.5,
          47.2,
          47.5,
          45,
          12.2,
          57,
          61.5,
          35.5,
          40.8,
          27.9,
          7.9,
          24.1,
          20.8,
          34,
          27.8,
          34.1,
          40.5,
          46.2,
          19.2,
          25.1,
          42.4,
          22.7,
          21.4,
          65.4,
          25.4,
          16.1,
          20.6,
          36.9,
          23.5,
          41.6,
          33.3,
          9.8,
          18.3,
          25,
          26.5,
          12.3,
          56,
          18.7,
          32,
          44.6,
          44,
          31.2,
          28.2,
          14.1,
          57.4,
          37.8,
          27.5,
          32.9,
          17.1,
          19.1,
          47.6,
          54.3,
          29.2,
          34.9,
          37,
          41.8,
          32.5,
          36.8,
          35.1,
          36.2,
          48.8,
          36.3,
          31,
          27.9,
          30.3,
          20.6,
          26.9,
          27.8,
          35.3,
          25.8,
          30.7,
          21.3,
          30.5,
          32.3,
          23.4,
          19.7,
          34.3,
          37.9,
          38.6,
          19.4,
          22.7,
          27.2,
          37.5,
          25.9,
          39.2,
          21.4,
          23.9,
          37.8,
          29,
          24.6,
          25,
          26.7,
          41,
          20.9,
          29.6,
          18.1,
          17.6,
          26.5,
          29.8,
          42,
          60.6,
          39.6,
          21.8,
          21.6,
          36,
          27.8,
          25.4,
          30.1,
          28.9,
          44.1,
          36,
          24,
          30.2,
          42.1,
          20.2,
          22.2,
          18.7,
          31.7,
          23.3,
          26.9,
          24.5,
          54.7,
          52.2,
          40.7,
          32.6,
          53.2,
          22.6,
          20.8,
          22.9,
          26,
          45,
          20.7,
          23.5,
          21.3,
          26.3,
          27.1,
          28.5,
          33.1,
          24.7,
          23.9,
          29.2,
          47.4,
          29.5,
          15.7,
          20.9,
          30.9,
          28.3,
          12.4,
          31.7,
          30.3,
          23.4,
          21,
          19.9,
          16.8,
          27.9,
          36.9,
          23,
          30.6,
          33.4,
          47.2,
          34,
          33.7,
          41.5,
          37.8,
          55.6,
          29.7,
          38.4,
          37.4,
          51,
          57.4,
          44,
          42.9,
          46.8,
          35.9,
          24.6,
          23,
          46.6,
          34,
          14.7,
          30.8,
          23.8,
          31.4,
          21.9,
          19,
          28,
          24.6,
          40.6,
          30.3,
          28,
          38.5,
          49,
          42.2,
          44.5,
          29.5,
          21.8,
          23,
          20.7,
          19.3,
          25.9,
          21.1,
          31.8,
          49.2,
          26.4,
          23.9,
          28.2,
          28.6,
          23.2,
          15,
          31,
          32.5,
          39.2,
          22.2,
          15.2,
          25.5,
          31.5,
          20.4,
          37.2,
          35.9,
          30.4,
          28.3,
          54.4,
          45.5,
          25.8,
          33.9,
          39.6,
          47.7,
          38.9,
          51.3,
          33.1,
          33.6,
          32.9,
          21,
          27.2,
          34.1,
          60.3,
          34.4,
          72.2,
          31,
          25.6,
          12.4,
          40.6,
          44.5,
          35.7,
          29.2,
          31.2,
          38.7,
          23.2,
          26,
          26.1,
          30.3,
          37.3,
          30.8,
          30.7,
          51.6,
          42.5,
          25.5,
          35.9,
          33.7,
          33.7,
          37.5,
          27.7,
          24.6,
          24,
          39.8,
          27,
          36.2,
          22.8,
          54.5,
          26.3,
          24.6,
          24.9,
          26.5,
          33.8,
          29.6,
          33.8,
          27.9,
          26.8,
          41,
          23.7,
          34.1,
          31.4,
          33.3,
          32.3,
          27.8,
          17.9,
          26.2,
          15.9,
          20.9,
          23.8,
          21.6,
          30.2,
          17,
          22.9,
          25.5,
          30.1,
          41.1,
          23.8,
          41.2,
          26.7,
          30,
          27.4,
          22.5,
          25.1,
          33.7,
          35.4,
          35.4,
          29.2,
          25.1,
          22.7,
          36.5,
          36.7,
          26.5,
          26.7,
          25.1,
          43.2,
          43.4,
          39.7,
          18.6,
          34.2,
          34,
          39.9,
          33.5,
          22,
          30.7,
          23,
          19.6,
          20.1,
          28.9,
          19.4,
          31,
          22.7,
          22.6,
          37.5,
          21.9,
          28.1,
          27.6,
          24.1,
          20.9,
          38.7,
          20.4,
          29.9,
          20.4,
          22.7,
          19.8,
          23.9,
          29.4,
          22.4,
          22.4,
          40.8,
          24.7,
          45.1,
          45.1,
          21.7,
          44.7,
          37.2,
          44.2,
          20.3,
          17.7,
          10.4,
          53.5,
          20.5,
          34.3,
          43.4,
          9.3,
          15.1,
          20.4,
          19.4,
          22.1,
          21.1,
          28.7,
          50.7,
          30.2,
          23.8,
          28.9,
          32.5,
          41.6,
          28.2,
          36.4,
          37.5,
          54.3,
          55.5,
          34.4,
          26.2,
          30.1,
          27.9,
          26.6,
          39,
          61.8,
          20.4,
          43.4,
          28.7,
          30.3,
          25.4,
          20.1,
          30.4,
          29.7,
          61,
          34.5,
          41.8,
          23.5,
          21.5,
          17.4,
          28.2,
          42.6,
          25.4,
          27.4,
          36.9,
          26.4,
          23.1,
          25.4,
          27.1
         ],
         "xaxis": "x",
         "y": [
          47083,
          42035,
          46544,
          41110,
          51690,
          61413,
          34664,
          76440,
          50537,
          49072,
          44224,
          49466,
          71693,
          67830,
          40991,
          61754,
          55349,
          40492,
          49498,
          47903,
          39586,
          47488,
          60235,
          86000,
          105918,
          73601,
          103850,
          106291,
          40207,
          121150,
          125790,
          93139,
          66604,
          67419,
          41174,
          56524,
          54437,
          68929,
          75367,
          76914,
          71223,
          63940,
          50655,
          61508,
          76778,
          58668,
          67101,
          101956,
          40847,
          57159,
          44567,
          55190,
          66421,
          85188,
          74074,
          42902,
          62069,
          76504,
          54614,
          50890,
          97356,
          61304,
          65450,
          88903,
          80877,
          73006,
          71692,
          46639,
          90854,
          69314,
          51932,
          68735,
          49194,
          61454,
          62718,
          75659,
          50817,
          67878,
          62372,
          76451,
          66063,
          70215,
          74784,
          67774,
          94862,
          68904,
          61757,
          53006,
          50151,
          43610,
          49774,
          48519,
          51410,
          53784,
          55447,
          45508,
          54913,
          54812,
          46062,
          43677,
          55864,
          60159,
          61513,
          38441,
          46247,
          54453,
          51958,
          45970,
          68229,
          40932,
          46882,
          57146,
          50752,
          49899,
          50931,
          51532,
          69610,
          43933,
          57342,
          48691,
          35617,
          56240,
          51686,
          48269,
          87139,
          72481,
          44360,
          50154,
          78180,
          70867,
          52199,
          51294,
          50523,
          74971,
          72198,
          47430,
          49758,
          90345,
          49927,
          57182,
          45360,
          60857,
          48417,
          66270,
          51383,
          80269,
          97387,
          54147,
          67745,
          67084,
          56370,
          51292,
          51453,
          53996,
          67461,
          51033,
          41429,
          50261,
          55078,
          57402,
          52150,
          62323,
          53335,
          48156,
          51778,
          71562,
          52054,
          40253,
          49960,
          51070,
          60912,
          30585,
          50659,
          56938,
          36798,
          44668,
          39748,
          36718,
          59270,
          61173,
          46638,
          69254,
          69128,
          83620,
          79350,
          95442,
          75774,
          61392,
          98991,
          55716,
          64868,
          77995,
          98530,
          92268,
          84913,
          60873,
          82333,
          68173,
          46927,
          60934,
          79805,
          55506,
          33995,
          42695,
          52919,
          57926,
          48434,
          42800,
          51477,
          56427,
          66495,
          56582,
          60424,
          80128,
          84689,
          66175,
          59115,
          77049,
          52620,
          53676,
          43194,
          34392,
          45115,
          45192,
          45172,
          79724,
          61929,
          48065,
          48693,
          58532,
          44619,
          40639,
          50027,
          58537,
          62621,
          50985,
          38000,
          58214,
          68396,
          55712,
          71277,
          70524,
          68208,
          50100,
          108260,
          85744,
          60756,
          74537,
          78511,
          100219,
          79229,
          106896,
          57391,
          64964,
          49570,
          41797,
          49210,
          90435,
          85756,
          71072,
          100281,
          41103,
          53512,
          29234,
          69086,
          94451,
          80493,
          59619,
          93362,
          64226,
          52350,
          52967,
          48730,
          56388,
          53723,
          47358,
          62698,
          111504,
          100178,
          66529,
          61956,
          55207,
          51634,
          54895,
          40895,
          46508,
          43855,
          59268,
          47440,
          65792,
          47565,
          70587,
          45001,
          47335,
          45002,
          50570,
          55913,
          60656,
          55712,
          49988,
          35735,
          67415,
          42430,
          63362,
          61514,
          64197,
          55472,
          45860,
          52632,
          57171,
          46839,
          53374,
          58213,
          41417,
          52319,
          40770,
          47724,
          55183,
          49616,
          72097,
          49837,
          63231,
          46749,
          60395,
          45025,
          52199,
          53833,
          60387,
          60105,
          44939,
          62755,
          57144,
          51635,
          63825,
          41320,
          51289,
          61333,
          48410,
          82139,
          85881,
          80199,
          47697,
          56547,
          63976,
          64973,
          57253,
          45042,
          51718,
          48743,
          35296,
          43146,
          54467,
          41006,
          50701,
          43938,
          50598,
          54470,
          50731,
          53276,
          54145,
          39761,
          45313,
          73476,
          50602,
          62214,
          50150,
          58103,
          41947,
          44045,
          50888,
          42662,
          47875,
          72711,
          49421,
          68987,
          87901,
          51293,
          70454,
          69083,
          87272,
          53047,
          44021,
          41737,
          88619,
          44689,
          69228,
          70119,
          38445,
          37989,
          48490,
          58984,
          52481,
          50536,
          65758,
          71183,
          64861,
          46048,
          65896,
          60700,
          70763,
          68711,
          57677,
          81338,
          120384,
          106554,
          66953,
          51794,
          54607,
          52237,
          50061,
          73580,
          100719,
          41698,
          91018,
          62206,
          65187,
          61304,
          52484,
          51697,
          60616,
          84579,
          79516,
          75407,
          45611,
          48358,
          37728,
          61589,
          65589,
          52154,
          41816,
          68162,
          57129,
          51738,
          57888,
          59882
         ],
         "yaxis": "y"
        },
        {
         "hovertemplate": "<b>OLS trendline</b><br>Median Income = 1270.7 * College% + 20802.6<br>R<sup>2</sup>=0.669885<br><br>College%=%{x}<br>Median Income=%{y} <b>(trend)</b><extra></extra>",
         "legendgroup": "",
         "marker": {
          "color": "#636efa",
          "symbol": "circle"
         },
         "mode": "lines",
         "name": "",
         "showlegend": false,
         "type": "scatter",
         "x": [
          7.9,
          9.3,
          9.8,
          10.4,
          12.2,
          12.3,
          12.4,
          12.4,
          14,
          14.1,
          14.7,
          15,
          15.1,
          15.2,
          15.7,
          15.8,
          15.9,
          16.1,
          16.5,
          16.5,
          16.6,
          16.8,
          17,
          17,
          17.1,
          17.4,
          17.6,
          17.7,
          17.9,
          18.1,
          18.3,
          18.6,
          18.7,
          18.7,
          19,
          19.1,
          19.2,
          19.2,
          19.3,
          19.4,
          19.4,
          19.4,
          19.4,
          19.6,
          19.7,
          19.8,
          19.9,
          20.1,
          20.1,
          20.2,
          20.3,
          20.4,
          20.4,
          20.4,
          20.4,
          20.4,
          20.5,
          20.6,
          20.6,
          20.7,
          20.7,
          20.8,
          20.8,
          20.9,
          20.9,
          20.9,
          20.9,
          21,
          21,
          21.1,
          21.1,
          21.3,
          21.3,
          21.4,
          21.4,
          21.5,
          21.6,
          21.6,
          21.7,
          21.8,
          21.8,
          21.8,
          21.9,
          21.9,
          22,
          22.1,
          22.2,
          22.2,
          22.4,
          22.4,
          22.5,
          22.6,
          22.6,
          22.7,
          22.7,
          22.7,
          22.7,
          22.7,
          22.8,
          22.8,
          22.9,
          22.9,
          23,
          23,
          23,
          23,
          23.1,
          23.2,
          23.2,
          23.3,
          23.4,
          23.4,
          23.5,
          23.5,
          23.5,
          23.7,
          23.7,
          23.8,
          23.8,
          23.8,
          23.8,
          23.9,
          23.9,
          23.9,
          23.9,
          24,
          24,
          24,
          24.1,
          24.1,
          24.5,
          24.5,
          24.6,
          24.6,
          24.6,
          24.6,
          24.6,
          24.7,
          24.7,
          24.9,
          25,
          25,
          25.1,
          25.1,
          25.1,
          25.1,
          25.4,
          25.4,
          25.4,
          25.4,
          25.4,
          25.5,
          25.5,
          25.5,
          25.6,
          25.8,
          25.8,
          25.9,
          25.9,
          26,
          26,
          26.1,
          26.2,
          26.2,
          26.3,
          26.3,
          26.4,
          26.4,
          26.5,
          26.5,
          26.5,
          26.5,
          26.6,
          26.7,
          26.7,
          26.7,
          26.8,
          26.9,
          26.9,
          26.9,
          27,
          27.1,
          27.1,
          27.2,
          27.2,
          27.4,
          27.4,
          27.5,
          27.6,
          27.7,
          27.8,
          27.8,
          27.8,
          27.8,
          27.9,
          27.9,
          27.9,
          27.9,
          27.9,
          28,
          28,
          28.1,
          28.2,
          28.2,
          28.2,
          28.2,
          28.3,
          28.3,
          28.5,
          28.6,
          28.7,
          28.7,
          28.9,
          28.9,
          28.9,
          29,
          29.2,
          29.2,
          29.2,
          29.2,
          29.4,
          29.4,
          29.5,
          29.5,
          29.6,
          29.6,
          29.6,
          29.7,
          29.7,
          29.8,
          29.9,
          30,
          30,
          30.1,
          30.1,
          30.1,
          30.2,
          30.2,
          30.2,
          30.3,
          30.3,
          30.3,
          30.3,
          30.3,
          30.3,
          30.4,
          30.4,
          30.5,
          30.6,
          30.7,
          30.7,
          30.7,
          30.8,
          30.8,
          30.9,
          31,
          31,
          31,
          31,
          31.2,
          31.2,
          31.4,
          31.4,
          31.5,
          31.7,
          31.7,
          31.8,
          32,
          32.3,
          32.3,
          32.5,
          32.5,
          32.5,
          32.6,
          32.9,
          32.9,
          33.1,
          33.1,
          33.3,
          33.3,
          33.4,
          33.5,
          33.6,
          33.7,
          33.7,
          33.7,
          33.7,
          33.8,
          33.8,
          33.9,
          34,
          34,
          34,
          34,
          34,
          34.1,
          34.1,
          34.1,
          34.2,
          34.3,
          34.3,
          34.4,
          34.4,
          34.5,
          34.9,
          35.1,
          35.3,
          35.4,
          35.4,
          35.5,
          35.7,
          35.9,
          35.9,
          35.9,
          36,
          36,
          36,
          36.2,
          36.2,
          36.3,
          36.4,
          36.5,
          36.7,
          36.7,
          36.8,
          36.9,
          36.9,
          36.9,
          37,
          37.2,
          37.2,
          37.3,
          37.4,
          37.5,
          37.5,
          37.5,
          37.5,
          37.5,
          37.8,
          37.8,
          37.8,
          37.9,
          38.4,
          38.5,
          38.6,
          38.7,
          38.7,
          38.9,
          39,
          39.2,
          39.2,
          39.6,
          39.6,
          39.7,
          39.8,
          39.9,
          40.5,
          40.6,
          40.6,
          40.7,
          40.8,
          40.8,
          41,
          41,
          41.1,
          41.2,
          41.5,
          41.6,
          41.6,
          41.8,
          41.8,
          42,
          42.1,
          42.2,
          42.4,
          42.5,
          42.6,
          42.9,
          43.2,
          43.4,
          43.4,
          43.4,
          43.6,
          44,
          44,
          44.1,
          44.2,
          44.5,
          44.5,
          44.6,
          44.7,
          45,
          45,
          45.1,
          45.1,
          45.4,
          45.5,
          46.2,
          46.6,
          46.8,
          47.2,
          47.2,
          47.4,
          47.5,
          47.6,
          47.7,
          48.8,
          49,
          49.2,
          50.7,
          51,
          51.3,
          51.6,
          52.2,
          53.2,
          53.5,
          54.3,
          54.3,
          54.4,
          54.5,
          54.7,
          55.5,
          55.6,
          56,
          57,
          57.4,
          57.4,
          59.5,
          60.3,
          60.6,
          61,
          61.5,
          61.8,
          65.4,
          72.2
         ],
         "xaxis": "x",
         "y": [
          30841.121113442583,
          32620.103478692014,
          33255.45432342395,
          34017.87533710228,
          36305.138378137264,
          36432.208547083654,
          36559.27871603004,
          36559.27871603004,
          38592.40141917225,
          38719.47158811864,
          39481.892601796964,
          39863.10310863613,
          39990.17327758252,
          40117.24344652891,
          40752.594291260844,
          40879.664460207234,
          41006.73462915362,
          41260.8749670464,
          41769.15564283195,
          41769.15564283195,
          41896.22581177834,
          42150.366149671114,
          42404.50648756389,
          42404.50648756389,
          42531.57665651028,
          42912.78716334944,
          43166.92750124222,
          43293.997670188604,
          43548.13800808138,
          43802.27834597416,
          44056.41868386694,
          44437.6291907061,
          44564.699359652484,
          44564.699359652484,
          44945.90986649165,
          45072.98003543804,
          45200.05020438443,
          45200.05020438443,
          45327.12037333082,
          45454.1905422772,
          45454.1905422772,
          45454.1905422772,
          45454.1905422772,
          45708.33088016999,
          45835.401049116364,
          45962.47121806276,
          46089.54138700914,
          46343.68172490192,
          46343.68172490192,
          46470.75189384831,
          46597.8220627947,
          46724.89223174108,
          46724.89223174108,
          46724.89223174108,
          46724.89223174108,
          46724.89223174108,
          46851.96240068748,
          46979.03256963387,
          46979.03256963387,
          47106.10273858025,
          47106.10273858025,
          47233.17290752664,
          47233.17290752664,
          47360.24307647302,
          47360.24307647302,
          47360.24307647302,
          47360.24307647302,
          47487.31324541941,
          47487.31324541941,
          47614.3834143658,
          47614.3834143658,
          47868.52375225858,
          47868.52375225858,
          47995.59392120497,
          47995.59392120497,
          48122.66409015136,
          48249.73425909775,
          48249.73425909775,
          48376.80442804413,
          48503.87459699052,
          48503.87459699052,
          48503.87459699052,
          48630.9447659369,
          48630.9447659369,
          48758.01493488329,
          48885.08510382968,
          49012.15527277607,
          49012.15527277607,
          49266.29561066885,
          49266.29561066885,
          49393.36577961524,
          49520.43594856163,
          49520.43594856163,
          49647.50611750801,
          49647.50611750801,
          49647.50611750801,
          49647.50611750801,
          49647.50611750801,
          49774.5762864544,
          49774.5762864544,
          49901.64645540078,
          49901.64645540078,
          50028.71662434717,
          50028.71662434717,
          50028.71662434717,
          50028.71662434717,
          50155.78679329356,
          50282.85696223995,
          50282.85696223995,
          50409.92713118634,
          50536.99730013273,
          50536.99730013273,
          50664.06746907912,
          50664.06746907912,
          50664.06746907912,
          50918.20780697189,
          50918.20780697189,
          51045.27797591828,
          51045.27797591828,
          51045.27797591828,
          51045.27797591828,
          51172.34814486466,
          51172.34814486466,
          51172.34814486466,
          51172.34814486466,
          51299.41831381105,
          51299.41831381105,
          51299.41831381105,
          51426.48848275744,
          51426.48848275744,
          51934.769158543,
          51934.769158543,
          52061.83932748939,
          52061.83932748939,
          52061.83932748939,
          52061.83932748939,
          52061.83932748939,
          52188.90949643577,
          52188.90949643577,
          52443.04983432854,
          52570.12000327493,
          52570.12000327493,
          52697.19017222132,
          52697.19017222132,
          52697.19017222132,
          52697.19017222132,
          53078.40067906049,
          53078.40067906049,
          53078.40067906049,
          53078.40067906049,
          53078.40067906049,
          53205.47084800688,
          53205.47084800688,
          53205.47084800688,
          53332.54101695327,
          53586.68135484604,
          53586.68135484604,
          53713.75152379243,
          53713.75152379243,
          53840.82169273882,
          53840.82169273882,
          53967.89186168521,
          54094.96203063159,
          54094.96203063159,
          54222.03219957798,
          54222.03219957798,
          54349.10236852437,
          54349.10236852437,
          54476.17253747076,
          54476.17253747076,
          54476.17253747076,
          54476.17253747076,
          54603.24270641715,
          54730.31287536353,
          54730.31287536353,
          54730.31287536353,
          54857.38304430992,
          54984.45321325631,
          54984.45321325631,
          54984.45321325631,
          55111.5233822027,
          55238.59355114909,
          55238.59355114909,
          55365.66372009547,
          55365.66372009547,
          55619.80405798825,
          55619.80405798825,
          55746.87422693464,
          55873.94439588103,
          56001.01456482741,
          56128.0847337738,
          56128.0847337738,
          56128.0847337738,
          56128.0847337738,
          56255.15490272019,
          56255.15490272019,
          56255.15490272019,
          56255.15490272019,
          56255.15490272019,
          56382.22507166658,
          56382.22507166658,
          56509.29524061297,
          56636.36540955935,
          56636.36540955935,
          56636.36540955935,
          56636.36540955935,
          56763.43557850574,
          56763.43557850574,
          57017.57591639852,
          57144.64608534491,
          57271.71625429129,
          57271.71625429129,
          57525.85659218407,
          57525.85659218407,
          57525.85659218407,
          57652.92676113046,
          57907.06709902323,
          57907.06709902323,
          57907.06709902323,
          57907.06709902323,
          58161.20743691601,
          58161.20743691601,
          58288.2776058624,
          58288.2776058624,
          58415.34777480879,
          58415.34777480879,
          58415.34777480879,
          58542.41794375517,
          58542.41794375517,
          58669.48811270156,
          58796.55828164795,
          58923.62845059434,
          58923.62845059434,
          59050.69861954073,
          59050.69861954073,
          59050.69861954073,
          59177.76878848711,
          59177.76878848711,
          59177.76878848711,
          59304.8389574335,
          59304.8389574335,
          59304.8389574335,
          59304.8389574335,
          59304.8389574335,
          59304.8389574335,
          59431.90912637989,
          59431.90912637989,
          59558.97929532628,
          59686.04946427267,
          59813.11963321905,
          59813.11963321905,
          59813.11963321905,
          59940.18980216544,
          59940.18980216544,
          60067.25997111183,
          60194.33014005822,
          60194.33014005822,
          60194.33014005822,
          60194.33014005822,
          60448.47047795099,
          60448.47047795099,
          60702.61081584377,
          60702.61081584377,
          60829.68098479016,
          61083.82132268293,
          61083.82132268293,
          61210.89149162933,
          61465.0318295221,
          61846.24233636126,
          61846.24233636126,
          62100.38267425404,
          62100.38267425404,
          62100.38267425404,
          62227.45284320043,
          62608.66335003959,
          62608.66335003959,
          62862.80368793237,
          62862.80368793237,
          63116.94402582514,
          63116.94402582514,
          63244.01419477153,
          63371.08436371792,
          63498.15453266431,
          63625.2247016107,
          63625.2247016107,
          63625.2247016107,
          63625.2247016107,
          63752.29487055708,
          63752.29487055708,
          63879.36503950347,
          64006.43520844986,
          64006.43520844986,
          64006.43520844986,
          64006.43520844986,
          64006.43520844986,
          64133.50537739625,
          64133.50537739625,
          64133.50537739625,
          64260.57554634264,
          64387.64571528902,
          64387.64571528902,
          64514.71588423541,
          64514.71588423541,
          64641.7860531818,
          65150.06672896735,
          65404.20706686013,
          65658.3474047529,
          65785.41757369929,
          65785.41757369929,
          65912.48774264568,
          66166.62808053846,
          66420.76841843122,
          66420.76841843122,
          66420.76841843122,
          66547.83858737763,
          66547.83858737763,
          66547.83858737763,
          66801.9789252704,
          66801.9789252704,
          66929.04909421678,
          67056.11926316317,
          67183.18943210956,
          67437.32977000234,
          67437.32977000234,
          67564.39993894871,
          67691.47010789512,
          67691.47010789512,
          67691.47010789512,
          67818.5402768415,
          68072.68061473427,
          68072.68061473427,
          68199.75078368066,
          68326.82095262705,
          68453.89112157344,
          68453.89112157344,
          68453.89112157344,
          68453.89112157344,
          68453.89112157344,
          68835.10162841261,
          68835.10162841261,
          68835.10162841261,
          68962.17179735898,
          69597.52264209093,
          69724.59281103732,
          69851.66297998371,
          69978.7331489301,
          69978.7331489301,
          70232.87348682288,
          70359.94365576925,
          70614.08399366205,
          70614.08399366205,
          71122.36466944759,
          71122.36466944759,
          71249.434838394,
          71376.50500734037,
          71503.57517628674,
          72265.99618996508,
          72393.06635891148,
          72393.06635891148,
          72520.13652785786,
          72647.20669680423,
          72647.20669680423,
          72901.34703469703,
          72901.34703469703,
          73028.41720364342,
          73155.4873725898,
          73536.69787942898,
          73663.76804837535,
          73663.76804837535,
          73917.90838626813,
          73917.90838626813,
          74172.04872416091,
          74299.1188931073,
          74426.18906205369,
          74680.32939994647,
          74807.39956889284,
          74934.46973783924,
          75315.6802446784,
          75696.89075151757,
          75951.03108941033,
          75951.03108941033,
          75951.03108941033,
          76205.17142730311,
          76713.45210308867,
          76713.45210308867,
          76840.52227203506,
          76967.59244098145,
          77348.8029478206,
          77348.8029478206,
          77475.873116767,
          77602.94328571338,
          77984.15379255255,
          77984.15379255255,
          78111.22396149894,
          78111.22396149894,
          78492.43446833809,
          78619.5046372845,
          79508.9958199092,
          80017.27649569476,
          80271.41683358753,
          80779.69750937309,
          80779.69750937309,
          81033.83784726585,
          81160.90801621226,
          81287.97818515863,
          81415.04835410503,
          82812.82021251529,
          83066.96055040807,
          83321.10088830085,
          85227.15342249666,
          85608.36392933583,
          85989.574436175,
          86370.78494301415,
          87133.20595669249,
          88403.90764615638,
          88785.11815299554,
          89801.67950456662,
          89801.67950456662,
          89928.74967351303,
          90055.8198424594,
          90309.96018035218,
          91326.5215319233,
          91453.59170086967,
          91961.87237665523,
          93232.57406611912,
          93740.85474190465,
          93740.85474190465,
          96409.32828977882,
          97425.8896413499,
          97807.10014818909,
          98315.38082397464,
          98950.73166870658,
          99331.94217554573,
          103906.46825761572,
          112547.23974597009
         ],
         "yaxis": "y"
        }
       ],
       "layout": {
        "autosize": true,
        "legend": {
         "tracegroupgap": 0
        },
        "margin": {
         "t": 60
        },
        "template": {
         "data": {
          "bar": [
           {
            "error_x": {
             "color": "#2a3f5f"
            },
            "error_y": {
             "color": "#2a3f5f"
            },
            "marker": {
             "line": {
              "color": "#E5ECF6",
              "width": 0.5
             },
             "pattern": {
              "fillmode": "overlay",
              "size": 10,
              "solidity": 0.2
             }
            },
            "type": "bar"
           }
          ],
          "barpolar": [
           {
            "marker": {
             "line": {
              "color": "#E5ECF6",
              "width": 0.5
             },
             "pattern": {
              "fillmode": "overlay",
              "size": 10,
              "solidity": 0.2
             }
            },
            "type": "barpolar"
           }
          ],
          "carpet": [
           {
            "aaxis": {
             "endlinecolor": "#2a3f5f",
             "gridcolor": "white",
             "linecolor": "white",
             "minorgridcolor": "white",
             "startlinecolor": "#2a3f5f"
            },
            "baxis": {
             "endlinecolor": "#2a3f5f",
             "gridcolor": "white",
             "linecolor": "white",
             "minorgridcolor": "white",
             "startlinecolor": "#2a3f5f"
            },
            "type": "carpet"
           }
          ],
          "choropleth": [
           {
            "colorbar": {
             "outlinewidth": 0,
             "ticks": ""
            },
            "type": "choropleth"
           }
          ],
          "contour": [
           {
            "colorbar": {
             "outlinewidth": 0,
             "ticks": ""
            },
            "colorscale": [
             [
              0,
              "#0d0887"
             ],
             [
              0.1111111111111111,
              "#46039f"
             ],
             [
              0.2222222222222222,
              "#7201a8"
             ],
             [
              0.3333333333333333,
              "#9c179e"
             ],
             [
              0.4444444444444444,
              "#bd3786"
             ],
             [
              0.5555555555555556,
              "#d8576b"
             ],
             [
              0.6666666666666666,
              "#ed7953"
             ],
             [
              0.7777777777777778,
              "#fb9f3a"
             ],
             [
              0.8888888888888888,
              "#fdca26"
             ],
             [
              1,
              "#f0f921"
             ]
            ],
            "type": "contour"
           }
          ],
          "contourcarpet": [
           {
            "colorbar": {
             "outlinewidth": 0,
             "ticks": ""
            },
            "type": "contourcarpet"
           }
          ],
          "heatmap": [
           {
            "colorbar": {
             "outlinewidth": 0,
             "ticks": ""
            },
            "colorscale": [
             [
              0,
              "#0d0887"
             ],
             [
              0.1111111111111111,
              "#46039f"
             ],
             [
              0.2222222222222222,
              "#7201a8"
             ],
             [
              0.3333333333333333,
              "#9c179e"
             ],
             [
              0.4444444444444444,
              "#bd3786"
             ],
             [
              0.5555555555555556,
              "#d8576b"
             ],
             [
              0.6666666666666666,
              "#ed7953"
             ],
             [
              0.7777777777777778,
              "#fb9f3a"
             ],
             [
              0.8888888888888888,
              "#fdca26"
             ],
             [
              1,
              "#f0f921"
             ]
            ],
            "type": "heatmap"
           }
          ],
          "heatmapgl": [
           {
            "colorbar": {
             "outlinewidth": 0,
             "ticks": ""
            },
            "colorscale": [
             [
              0,
              "#0d0887"
             ],
             [
              0.1111111111111111,
              "#46039f"
             ],
             [
              0.2222222222222222,
              "#7201a8"
             ],
             [
              0.3333333333333333,
              "#9c179e"
             ],
             [
              0.4444444444444444,
              "#bd3786"
             ],
             [
              0.5555555555555556,
              "#d8576b"
             ],
             [
              0.6666666666666666,
              "#ed7953"
             ],
             [
              0.7777777777777778,
              "#fb9f3a"
             ],
             [
              0.8888888888888888,
              "#fdca26"
             ],
             [
              1,
              "#f0f921"
             ]
            ],
            "type": "heatmapgl"
           }
          ],
          "histogram": [
           {
            "marker": {
             "pattern": {
              "fillmode": "overlay",
              "size": 10,
              "solidity": 0.2
             }
            },
            "type": "histogram"
           }
          ],
          "histogram2d": [
           {
            "colorbar": {
             "outlinewidth": 0,
             "ticks": ""
            },
            "colorscale": [
             [
              0,
              "#0d0887"
             ],
             [
              0.1111111111111111,
              "#46039f"
             ],
             [
              0.2222222222222222,
              "#7201a8"
             ],
             [
              0.3333333333333333,
              "#9c179e"
             ],
             [
              0.4444444444444444,
              "#bd3786"
             ],
             [
              0.5555555555555556,
              "#d8576b"
             ],
             [
              0.6666666666666666,
              "#ed7953"
             ],
             [
              0.7777777777777778,
              "#fb9f3a"
             ],
             [
              0.8888888888888888,
              "#fdca26"
             ],
             [
              1,
              "#f0f921"
             ]
            ],
            "type": "histogram2d"
           }
          ],
          "histogram2dcontour": [
           {
            "colorbar": {
             "outlinewidth": 0,
             "ticks": ""
            },
            "colorscale": [
             [
              0,
              "#0d0887"
             ],
             [
              0.1111111111111111,
              "#46039f"
             ],
             [
              0.2222222222222222,
              "#7201a8"
             ],
             [
              0.3333333333333333,
              "#9c179e"
             ],
             [
              0.4444444444444444,
              "#bd3786"
             ],
             [
              0.5555555555555556,
              "#d8576b"
             ],
             [
              0.6666666666666666,
              "#ed7953"
             ],
             [
              0.7777777777777778,
              "#fb9f3a"
             ],
             [
              0.8888888888888888,
              "#fdca26"
             ],
             [
              1,
              "#f0f921"
             ]
            ],
            "type": "histogram2dcontour"
           }
          ],
          "mesh3d": [
           {
            "colorbar": {
             "outlinewidth": 0,
             "ticks": ""
            },
            "type": "mesh3d"
           }
          ],
          "parcoords": [
           {
            "line": {
             "colorbar": {
              "outlinewidth": 0,
              "ticks": ""
             }
            },
            "type": "parcoords"
           }
          ],
          "pie": [
           {
            "automargin": true,
            "type": "pie"
           }
          ],
          "scatter": [
           {
            "marker": {
             "colorbar": {
              "outlinewidth": 0,
              "ticks": ""
             }
            },
            "type": "scatter"
           }
          ],
          "scatter3d": [
           {
            "line": {
             "colorbar": {
              "outlinewidth": 0,
              "ticks": ""
             }
            },
            "marker": {
             "colorbar": {
              "outlinewidth": 0,
              "ticks": ""
             }
            },
            "type": "scatter3d"
           }
          ],
          "scattercarpet": [
           {
            "marker": {
             "colorbar": {
              "outlinewidth": 0,
              "ticks": ""
             }
            },
            "type": "scattercarpet"
           }
          ],
          "scattergeo": [
           {
            "marker": {
             "colorbar": {
              "outlinewidth": 0,
              "ticks": ""
             }
            },
            "type": "scattergeo"
           }
          ],
          "scattergl": [
           {
            "marker": {
             "colorbar": {
              "outlinewidth": 0,
              "ticks": ""
             }
            },
            "type": "scattergl"
           }
          ],
          "scattermapbox": [
           {
            "marker": {
             "colorbar": {
              "outlinewidth": 0,
              "ticks": ""
             }
            },
            "type": "scattermapbox"
           }
          ],
          "scatterpolar": [
           {
            "marker": {
             "colorbar": {
              "outlinewidth": 0,
              "ticks": ""
             }
            },
            "type": "scatterpolar"
           }
          ],
          "scatterpolargl": [
           {
            "marker": {
             "colorbar": {
              "outlinewidth": 0,
              "ticks": ""
             }
            },
            "type": "scatterpolargl"
           }
          ],
          "scatterternary": [
           {
            "marker": {
             "colorbar": {
              "outlinewidth": 0,
              "ticks": ""
             }
            },
            "type": "scatterternary"
           }
          ],
          "surface": [
           {
            "colorbar": {
             "outlinewidth": 0,
             "ticks": ""
            },
            "colorscale": [
             [
              0,
              "#0d0887"
             ],
             [
              0.1111111111111111,
              "#46039f"
             ],
             [
              0.2222222222222222,
              "#7201a8"
             ],
             [
              0.3333333333333333,
              "#9c179e"
             ],
             [
              0.4444444444444444,
              "#bd3786"
             ],
             [
              0.5555555555555556,
              "#d8576b"
             ],
             [
              0.6666666666666666,
              "#ed7953"
             ],
             [
              0.7777777777777778,
              "#fb9f3a"
             ],
             [
              0.8888888888888888,
              "#fdca26"
             ],
             [
              1,
              "#f0f921"
             ]
            ],
            "type": "surface"
           }
          ],
          "table": [
           {
            "cells": {
             "fill": {
              "color": "#EBF0F8"
             },
             "line": {
              "color": "white"
             }
            },
            "header": {
             "fill": {
              "color": "#C8D4E3"
             },
             "line": {
              "color": "white"
             }
            },
            "type": "table"
           }
          ]
         },
         "layout": {
          "annotationdefaults": {
           "arrowcolor": "#2a3f5f",
           "arrowhead": 0,
           "arrowwidth": 1
          },
          "autotypenumbers": "strict",
          "coloraxis": {
           "colorbar": {
            "outlinewidth": 0,
            "ticks": ""
           }
          },
          "colorscale": {
           "diverging": [
            [
             0,
             "#8e0152"
            ],
            [
             0.1,
             "#c51b7d"
            ],
            [
             0.2,
             "#de77ae"
            ],
            [
             0.3,
             "#f1b6da"
            ],
            [
             0.4,
             "#fde0ef"
            ],
            [
             0.5,
             "#f7f7f7"
            ],
            [
             0.6,
             "#e6f5d0"
            ],
            [
             0.7,
             "#b8e186"
            ],
            [
             0.8,
             "#7fbc41"
            ],
            [
             0.9,
             "#4d9221"
            ],
            [
             1,
             "#276419"
            ]
           ],
           "sequential": [
            [
             0,
             "#0d0887"
            ],
            [
             0.1111111111111111,
             "#46039f"
            ],
            [
             0.2222222222222222,
             "#7201a8"
            ],
            [
             0.3333333333333333,
             "#9c179e"
            ],
            [
             0.4444444444444444,
             "#bd3786"
            ],
            [
             0.5555555555555556,
             "#d8576b"
            ],
            [
             0.6666666666666666,
             "#ed7953"
            ],
            [
             0.7777777777777778,
             "#fb9f3a"
            ],
            [
             0.8888888888888888,
             "#fdca26"
            ],
            [
             1,
             "#f0f921"
            ]
           ],
           "sequentialminus": [
            [
             0,
             "#0d0887"
            ],
            [
             0.1111111111111111,
             "#46039f"
            ],
            [
             0.2222222222222222,
             "#7201a8"
            ],
            [
             0.3333333333333333,
             "#9c179e"
            ],
            [
             0.4444444444444444,
             "#bd3786"
            ],
            [
             0.5555555555555556,
             "#d8576b"
            ],
            [
             0.6666666666666666,
             "#ed7953"
            ],
            [
             0.7777777777777778,
             "#fb9f3a"
            ],
            [
             0.8888888888888888,
             "#fdca26"
            ],
            [
             1,
             "#f0f921"
            ]
           ]
          },
          "colorway": [
           "#636efa",
           "#EF553B",
           "#00cc96",
           "#ab63fa",
           "#FFA15A",
           "#19d3f3",
           "#FF6692",
           "#B6E880",
           "#FF97FF",
           "#FECB52"
          ],
          "font": {
           "color": "#2a3f5f"
          },
          "geo": {
           "bgcolor": "white",
           "lakecolor": "white",
           "landcolor": "#E5ECF6",
           "showlakes": true,
           "showland": true,
           "subunitcolor": "white"
          },
          "hoverlabel": {
           "align": "left"
          },
          "hovermode": "closest",
          "mapbox": {
           "style": "light"
          },
          "paper_bgcolor": "white",
          "plot_bgcolor": "#E5ECF6",
          "polar": {
           "angularaxis": {
            "gridcolor": "white",
            "linecolor": "white",
            "ticks": ""
           },
           "bgcolor": "#E5ECF6",
           "radialaxis": {
            "gridcolor": "white",
            "linecolor": "white",
            "ticks": ""
           }
          },
          "scene": {
           "xaxis": {
            "backgroundcolor": "#E5ECF6",
            "gridcolor": "white",
            "gridwidth": 2,
            "linecolor": "white",
            "showbackground": true,
            "ticks": "",
            "zerolinecolor": "white"
           },
           "yaxis": {
            "backgroundcolor": "#E5ECF6",
            "gridcolor": "white",
            "gridwidth": 2,
            "linecolor": "white",
            "showbackground": true,
            "ticks": "",
            "zerolinecolor": "white"
           },
           "zaxis": {
            "backgroundcolor": "#E5ECF6",
            "gridcolor": "white",
            "gridwidth": 2,
            "linecolor": "white",
            "showbackground": true,
            "ticks": "",
            "zerolinecolor": "white"
           }
          },
          "shapedefaults": {
           "line": {
            "color": "#2a3f5f"
           }
          },
          "ternary": {
           "aaxis": {
            "gridcolor": "white",
            "linecolor": "white",
            "ticks": ""
           },
           "baxis": {
            "gridcolor": "white",
            "linecolor": "white",
            "ticks": ""
           },
           "bgcolor": "#E5ECF6",
           "caxis": {
            "gridcolor": "white",
            "linecolor": "white",
            "ticks": ""
           }
          },
          "title": {
           "x": 0.05
          },
          "xaxis": {
           "automargin": true,
           "gridcolor": "white",
           "linecolor": "white",
           "ticks": "",
           "title": {
            "standoff": 15
           },
           "zerolinecolor": "white",
           "zerolinewidth": 2
          },
          "yaxis": {
           "automargin": true,
           "gridcolor": "white",
           "linecolor": "white",
           "ticks": "",
           "title": {
            "standoff": 15
           },
           "zerolinecolor": "white",
           "zerolinewidth": 2
          }
         }
        },
        "xaxis": {
         "anchor": "y",
         "autorange": true,
         "domain": [
          0,
          1
         ],
         "range": [
          3.882585576603523,
          76.21741442339648
         ],
         "title": {
          "text": "College%"
         },
         "type": "linear"
        },
        "yaxis": {
         "anchor": "x",
         "autorange": true,
         "domain": [
          0,
          1
         ],
         "range": [
          21757.879265091862,
          133266.12073490812
         ],
         "title": {
          "text": "Median Income"
         },
         "type": "linear"
        }
       }
      },
      "image/png": "[encoded data removed]",
      "text/html": [
       "<div>                            <div id=\"65e493f6-bde6-426e-972f-6a696f3277a5\" class=\"plotly-graph-div\" style=\"height:525px; width:100%;\"></div>            <script type=\"text/javascript\">                require([\"plotly\"], function(Plotly) {                    window.PLOTLYENV=window.PLOTLYENV || {};                                    if (document.getElementById(\"65e493f6-bde6-426e-972f-6a696f3277a5\")) {                    Plotly.newPlot(                        \"65e493f6-bde6-426e-972f-6a696f3277a5\",                        [{\"hovertemplate\":\"College%=%{x}<br>Median Income=%{y}<extra></extra>\",\"legendgroup\":\"\",\"marker\":{\"color\":\"#636efa\",\"symbol\":\"circle\"},\"mode\":\"markers\",\"name\":\"\",\"orientation\":\"v\",\"showlegend\":false,\"type\":\"scatter\",\"x\":[24.0,21.8,22.8,17.0,30.3,36.7,19.4,29.6,24.5,34.0,16.5,19.2,36.0,45.4,14.0,29.4,37.5,16.5,30.0,26.9,15.8,23.7,16.6,43.6,59.5,47.2,47.5,45.0,12.2,57.0,61.5,35.5,40.8,27.9,7.9,24.1,20.8,34.0,27.8,34.1,40.5,46.2,19.2,25.1,42.4,22.7,21.4,65.4,25.4,16.1,20.6,36.9,23.5,41.6,33.3,9.8,18.3,25.0,26.5,12.3,56.0,18.7,32.0,44.6,44.0,31.2,28.2,14.1,57.4,37.8,27.5,32.9,17.1,19.1,47.6,54.3,29.2,34.9,37.0,41.8,32.5,36.8,35.1,36.2,48.8,36.3,31.0,27.9,30.3,20.6,26.9,27.8,35.3,25.8,30.7,21.3,30.5,32.3,23.4,19.7,34.3,37.9,38.6,19.4,22.7,27.2,37.5,25.9,39.2,21.4,23.9,37.8,29.0,24.6,25.0,26.7,41.0,20.9,29.6,18.1,17.6,26.5,29.8,42.0,60.6,39.6,21.8,21.6,36.0,27.8,25.4,30.1,28.9,44.1,36.0,24.0,30.2,42.1,20.2,22.2,18.7,31.7,23.3,26.9,24.5,54.7,52.2,40.7,32.6,53.2,22.6,20.8,22.9,26.0,45.0,20.7,23.5,21.3,26.3,27.1,28.5,33.1,24.7,23.9,29.2,47.4,29.5,15.7,20.9,30.9,28.3,12.4,31.7,30.3,23.4,21.0,19.9,16.8,27.9,36.9,23.0,30.6,33.4,47.2,34.0,33.7,41.5,37.8,55.6,29.7,38.4,37.4,51.0,57.4,44.0,42.9,46.8,35.9,24.6,23.0,46.6,34.0,14.7,30.8,23.8,31.4,21.9,19.0,28.0,24.6,40.6,30.3,28.0,38.5,49.0,42.2,44.5,29.5,21.8,23.0,20.7,19.3,25.9,21.1,31.8,49.2,26.4,23.9,28.2,28.6,23.2,15.0,31.0,32.5,39.2,22.2,15.2,25.5,31.5,20.4,37.2,35.9,30.4,28.3,54.4,45.5,25.8,33.9,39.6,47.7,38.9,51.3,33.1,33.6,32.9,21.0,27.2,34.1,60.3,34.4,72.2,31.0,25.6,12.4,40.6,44.5,35.7,29.2,31.2,38.7,23.2,26.0,26.1,30.3,37.3,30.8,30.7,51.6,42.5,25.5,35.9,33.7,33.7,37.5,27.7,24.6,24.0,39.8,27.0,36.2,22.8,54.5,26.3,24.6,24.9,26.5,33.8,29.6,33.8,27.9,26.8,41.0,23.7,34.1,31.4,33.3,32.3,27.8,17.9,26.2,15.9,20.9,23.8,21.6,30.2,17.0,22.9,25.5,30.1,41.1,23.8,41.2,26.7,30.0,27.4,22.5,25.1,33.7,35.4,35.4,29.2,25.1,22.7,36.5,36.7,26.5,26.7,25.1,43.2,43.4,39.7,18.6,34.2,34.0,39.9,33.5,22.0,30.7,23.0,19.6,20.1,28.9,19.4,31.0,22.7,22.6,37.5,21.9,28.1,27.6,24.1,20.9,38.7,20.4,29.9,20.4,22.7,19.8,23.9,29.4,22.4,22.4,40.8,24.7,45.1,45.1,21.7,44.7,37.2,44.2,20.3,17.7,10.4,53.5,20.5,34.3,43.4,9.3,15.1,20.4,19.4,22.1,21.1,28.7,50.7,30.2,23.8,28.9,32.5,41.6,28.2,36.4,37.5,54.3,55.5,34.4,26.2,30.1,27.9,26.6,39.0,61.8,20.4,43.4,28.7,30.3,25.4,20.1,30.4,29.7,61.0,34.5,41.8,23.5,21.5,17.4,28.2,42.6,25.4,27.4,36.9,26.4,23.1,25.4,27.1],\"xaxis\":\"x\",\"y\":[47083,42035,46544,41110,51690,61413,34664,76440,50537,49072,44224,49466,71693,67830,40991,61754,55349,40492,49498,47903,39586,47488,60235,86000,105918,73601,103850,106291,40207,121150,125790,93139,66604,67419,41174,56524,54437,68929,75367,76914,71223,63940,50655,61508,76778,58668,67101,101956,40847,57159,44567,55190,66421,85188,74074,42902,62069,76504,54614,50890,97356,61304,65450,88903,80877,73006,71692,46639,90854,69314,51932,68735,49194,61454,62718,75659,50817,67878,62372,76451,66063,70215,74784,67774,94862,68904,61757,53006,50151,43610,49774,48519,51410,53784,55447,45508,54913,54812,46062,43677,55864,60159,61513,38441,46247,54453,51958,45970,68229,40932,46882,57146,50752,49899,50931,51532,69610,43933,57342,48691,35617,56240,51686,48269,87139,72481,44360,50154,78180,70867,52199,51294,50523,74971,72198,47430,49758,90345,49927,57182,45360,60857,48417,66270,51383,80269,97387,54147,67745,67084,56370,51292,51453,53996,67461,51033,41429,50261,55078,57402,52150,62323,53335,48156,51778,71562,52054,40253,49960,51070,60912,30585,50659,56938,36798,44668,39748,36718,59270,61173,46638,69254,69128,83620,79350,95442,75774,61392,98991,55716,64868,77995,98530,92268,84913,60873,82333,68173,46927,60934,79805,55506,33995,42695,52919,57926,48434,42800,51477,56427,66495,56582,60424,80128,84689,66175,59115,77049,52620,53676,43194,34392,45115,45192,45172,79724,61929,48065,48693,58532,44619,40639,50027,58537,62621,50985,38000,58214,68396,55712,71277,70524,68208,50100,108260,85744,60756,74537,78511,100219,79229,106896,57391,64964,49570,41797,49210,90435,85756,71072,100281,41103,53512,29234,69086,94451,80493,59619,93362,64226,52350,52967,48730,56388,53723,47358,62698,111504,100178,66529,61956,55207,51634,54895,40895,46508,43855,59268,47440,65792,47565,70587,45001,47335,45002,50570,55913,60656,55712,49988,35735,67415,42430,63362,61514,64197,55472,45860,52632,57171,46839,53374,58213,41417,52319,40770,47724,55183,49616,72097,49837,63231,46749,60395,45025,52199,53833,60387,60105,44939,62755,57144,51635,63825,41320,51289,61333,48410,82139,85881,80199,47697,56547,63976,64973,57253,45042,51718,48743,35296,43146,54467,41006,50701,43938,50598,54470,50731,53276,54145,39761,45313,73476,50602,62214,50150,58103,41947,44045,50888,42662,47875,72711,49421,68987,87901,51293,70454,69083,87272,53047,44021,41737,88619,44689,69228,70119,38445,37989,48490,58984,52481,50536,65758,71183,64861,46048,65896,60700,70763,68711,57677,81338,120384,106554,66953,51794,54607,52237,50061,73580,100719,41698,91018,62206,65187,61304,52484,51697,60616,84579,79516,75407,45611,48358,37728,61589,65589,52154,41816,68162,57129,51738,57888,59882],\"yaxis\":\"y\"},{\"hovertemplate\":\"<b>OLS trendline</b><br>Median Income = 1270.7 * College% + 20802.6<br>R<sup>2</sup>=0.669885<br><br>College%=%{x}<br>Median Income=%{y} <b>(trend)</b><extra></extra>\",\"legendgroup\":\"\",\"marker\":{\"color\":\"#636efa\",\"symbol\":\"circle\"},\"mode\":\"lines\",\"name\":\"\",\"showlegend\":false,\"type\":\"scatter\",\"x\":[7.9,9.3,9.8,10.4,12.2,12.3,12.4,12.4,14.0,14.1,14.7,15.0,15.1,15.2,15.7,15.8,15.9,16.1,16.5,16.5,16.6,16.8,17.0,17.0,17.1,17.4,17.6,17.7,17.9,18.1,18.3,18.6,18.7,18.7,19.0,19.1,19.2,19.2,19.3,19.4,19.4,19.4,19.4,19.6,19.7,19.8,19.9,20.1,20.1,20.2,20.3,20.4,20.4,20.4,20.4,20.4,20.5,20.6,20.6,20.7,20.7,20.8,20.8,20.9,20.9,20.9,20.9,21.0,21.0,21.1,21.1,21.3,21.3,21.4,21.4,21.5,21.6,21.6,21.7,21.8,21.8,21.8,21.9,21.9,22.0,22.1,22.2,22.2,22.4,22.4,22.5,22.6,22.6,22.7,22.7,22.7,22.7,22.7,22.8,22.8,22.9,22.9,23.0,23.0,23.0,23.0,23.1,23.2,23.2,23.3,23.4,23.4,23.5,23.5,23.5,23.7,23.7,23.8,23.8,23.8,23.8,23.9,23.9,23.9,23.9,24.0,24.0,24.0,24.1,24.1,24.5,24.5,24.6,24.6,24.6,24.6,24.6,24.7,24.7,24.9,25.0,25.0,25.1,25.1,25.1,25.1,25.4,25.4,25.4,25.4,25.4,25.5,25.5,25.5,25.6,25.8,25.8,25.9,25.9,26.0,26.0,26.1,26.2,26.2,26.3,26.3,26.4,26.4,26.5,26.5,26.5,26.5,26.6,26.7,26.7,26.7,26.8,26.9,26.9,26.9,27.0,27.1,27.1,27.2,27.2,27.4,27.4,27.5,27.6,27.7,27.8,27.8,27.8,27.8,27.9,27.9,27.9,27.9,27.9,28.0,28.0,28.1,28.2,28.2,28.2,28.2,28.3,28.3,28.5,28.6,28.7,28.7,28.9,28.9,28.9,29.0,29.2,29.2,29.2,29.2,29.4,29.4,29.5,29.5,29.6,29.6,29.6,29.7,29.7,29.8,29.9,30.0,30.0,30.1,30.1,30.1,30.2,30.2,30.2,30.3,30.3,30.3,30.3,30.3,30.3,30.4,30.4,30.5,30.6,30.7,30.7,30.7,30.8,30.8,30.9,31.0,31.0,31.0,31.0,31.2,31.2,31.4,31.4,31.5,31.7,31.7,31.8,32.0,32.3,32.3,32.5,32.5,32.5,32.6,32.9,32.9,33.1,33.1,33.3,33.3,33.4,33.5,33.6,33.7,33.7,33.7,33.7,33.8,33.8,33.9,34.0,34.0,34.0,34.0,34.0,34.1,34.1,34.1,34.2,34.3,34.3,34.4,34.4,34.5,34.9,35.1,35.3,35.4,35.4,35.5,35.7,35.9,35.9,35.9,36.0,36.0,36.0,36.2,36.2,36.3,36.4,36.5,36.7,36.7,36.8,36.9,36.9,36.9,37.0,37.2,37.2,37.3,37.4,37.5,37.5,37.5,37.5,37.5,37.8,37.8,37.8,37.9,38.4,38.5,38.6,38.7,38.7,38.9,39.0,39.2,39.2,39.6,39.6,39.7,39.8,39.9,40.5,40.6,40.6,40.7,40.8,40.8,41.0,41.0,41.1,41.2,41.5,41.6,41.6,41.8,41.8,42.0,42.1,42.2,42.4,42.5,42.6,42.9,43.2,43.4,43.4,43.4,43.6,44.0,44.0,44.1,44.2,44.5,44.5,44.6,44.7,45.0,45.0,45.1,45.1,45.4,45.5,46.2,46.6,46.8,47.2,47.2,47.4,47.5,47.6,47.7,48.8,49.0,49.2,50.7,51.0,51.3,51.6,52.2,53.2,53.5,54.3,54.3,54.4,54.5,54.7,55.5,55.6,56.0,57.0,57.4,57.4,59.5,60.3,60.6,61.0,61.5,61.8,65.4,72.2],\"xaxis\":\"x\",\"y\":[30841.121113442583,32620.103478692014,33255.45432342395,34017.87533710228,36305.138378137264,36432.208547083654,36559.27871603004,36559.27871603004,38592.40141917225,38719.47158811864,39481.892601796964,39863.10310863613,39990.17327758252,40117.24344652891,40752.594291260844,40879.664460207234,41006.73462915362,41260.8749670464,41769.15564283195,41769.15564283195,41896.22581177834,42150.366149671114,42404.50648756389,42404.50648756389,42531.57665651028,42912.78716334944,43166.92750124222,43293.997670188604,43548.13800808138,43802.27834597416,44056.41868386694,44437.6291907061,44564.699359652484,44564.699359652484,44945.90986649165,45072.98003543804,45200.05020438443,45200.05020438443,45327.12037333082,45454.1905422772,45454.1905422772,45454.1905422772,45454.1905422772,45708.33088016999,45835.401049116364,45962.47121806276,46089.54138700914,46343.68172490192,46343.68172490192,46470.75189384831,46597.8220627947,46724.89223174108,46724.89223174108,46724.89223174108,46724.89223174108,46724.89223174108,46851.96240068748,46979.03256963387,46979.03256963387,47106.10273858025,47106.10273858025,47233.17290752664,47233.17290752664,47360.24307647302,47360.24307647302,47360.24307647302,47360.24307647302,47487.31324541941,47487.31324541941,47614.3834143658,47614.3834143658,47868.52375225858,47868.52375225858,47995.59392120497,47995.59392120497,48122.66409015136,48249.73425909775,48249.73425909775,48376.80442804413,48503.87459699052,48503.87459699052,48503.87459699052,48630.9447659369,48630.9447659369,48758.01493488329,48885.08510382968,49012.15527277607,49012.15527277607,49266.29561066885,49266.29561066885,49393.36577961524,49520.43594856163,49520.43594856163,49647.50611750801,49647.50611750801,49647.50611750801,49647.50611750801,49647.50611750801,49774.5762864544,49774.5762864544,49901.64645540078,49901.64645540078,50028.71662434717,50028.71662434717,50028.71662434717,50028.71662434717,50155.78679329356,50282.85696223995,50282.85696223995,50409.92713118634,50536.99730013273,50536.99730013273,50664.06746907912,50664.06746907912,50664.06746907912,50918.20780697189,50918.20780697189,51045.27797591828,51045.27797591828,51045.27797591828,51045.27797591828,51172.34814486466,51172.34814486466,51172.34814486466,51172.34814486466,51299.41831381105,51299.41831381105,51299.41831381105,51426.48848275744,51426.48848275744,51934.769158543,51934.769158543,52061.83932748939,52061.83932748939,52061.83932748939,52061.83932748939,52061.83932748939,52188.90949643577,52188.90949643577,52443.04983432854,52570.12000327493,52570.12000327493,52697.19017222132,52697.19017222132,52697.19017222132,52697.19017222132,53078.40067906049,53078.40067906049,53078.40067906049,53078.40067906049,53078.40067906049,53205.47084800688,53205.47084800688,53205.47084800688,53332.54101695327,53586.68135484604,53586.68135484604,53713.75152379243,53713.75152379243,53840.82169273882,53840.82169273882,53967.89186168521,54094.96203063159,54094.96203063159,54222.03219957798,54222.03219957798,54349.10236852437,54349.10236852437,54476.17253747076,54476.17253747076,54476.17253747076,54476.17253747076,54603.24270641715,54730.31287536353,54730.31287536353,54730.31287536353,54857.38304430992,54984.45321325631,54984.45321325631,54984.45321325631,55111.5233822027,55238.59355114909,55238.59355114909,55365.66372009547,55365.66372009547,55619.80405798825,55619.80405798825,55746.87422693464,55873.94439588103,56001.01456482741,56128.0847337738,56128.0847337738,56128.0847337738,56128.0847337738,56255.15490272019,56255.15490272019,56255.15490272019,56255.15490272019,56255.15490272019,56382.22507166658,56382.22507166658,56509.29524061297,56636.36540955935,56636.36540955935,56636.36540955935,56636.36540955935,56763.43557850574,56763.43557850574,57017.57591639852,57144.64608534491,57271.71625429129,57271.71625429129,57525.85659218407,57525.85659218407,57525.85659218407,57652.92676113046,57907.06709902323,57907.06709902323,57907.06709902323,57907.06709902323,58161.20743691601,58161.20743691601,58288.2776058624,58288.2776058624,58415.34777480879,58415.34777480879,58415.34777480879,58542.41794375517,58542.41794375517,58669.48811270156,58796.55828164795,58923.62845059434,58923.62845059434,59050.69861954073,59050.69861954073,59050.69861954073,59177.76878848711,59177.76878848711,59177.76878848711,59304.8389574335,59304.8389574335,59304.8389574335,59304.8389574335,59304.8389574335,59304.8389574335,59431.90912637989,59431.90912637989,59558.97929532628,59686.04946427267,59813.11963321905,59813.11963321905,59813.11963321905,59940.18980216544,59940.18980216544,60067.25997111183,60194.33014005822,60194.33014005822,60194.33014005822,60194.33014005822,60448.47047795099,60448.47047795099,60702.61081584377,60702.61081584377,60829.68098479016,61083.82132268293,61083.82132268293,61210.89149162933,61465.0318295221,61846.24233636126,61846.24233636126,62100.38267425404,62100.38267425404,62100.38267425404,62227.45284320043,62608.66335003959,62608.66335003959,62862.80368793237,62862.80368793237,63116.94402582514,63116.94402582514,63244.01419477153,63371.08436371792,63498.15453266431,63625.2247016107,63625.2247016107,63625.2247016107,63625.2247016107,63752.29487055708,63752.29487055708,63879.36503950347,64006.43520844986,64006.43520844986,64006.43520844986,64006.43520844986,64006.43520844986,64133.50537739625,64133.50537739625,64133.50537739625,64260.57554634264,64387.64571528902,64387.64571528902,64514.71588423541,64514.71588423541,64641.7860531818,65150.06672896735,65404.20706686013,65658.3474047529,65785.41757369929,65785.41757369929,65912.48774264568,66166.62808053846,66420.76841843122,66420.76841843122,66420.76841843122,66547.83858737763,66547.83858737763,66547.83858737763,66801.9789252704,66801.9789252704,66929.04909421678,67056.11926316317,67183.18943210956,67437.32977000234,67437.32977000234,67564.39993894871,67691.47010789512,67691.47010789512,67691.47010789512,67818.5402768415,68072.68061473427,68072.68061473427,68199.75078368066,68326.82095262705,68453.89112157344,68453.89112157344,68453.89112157344,68453.89112157344,68453.89112157344,68835.10162841261,68835.10162841261,68835.10162841261,68962.17179735898,69597.52264209093,69724.59281103732,69851.66297998371,69978.7331489301,69978.7331489301,70232.87348682288,70359.94365576925,70614.08399366205,70614.08399366205,71122.36466944759,71122.36466944759,71249.434838394,71376.50500734037,71503.57517628674,72265.99618996508,72393.06635891148,72393.06635891148,72520.13652785786,72647.20669680423,72647.20669680423,72901.34703469703,72901.34703469703,73028.41720364342,73155.4873725898,73536.69787942898,73663.76804837535,73663.76804837535,73917.90838626813,73917.90838626813,74172.04872416091,74299.1188931073,74426.18906205369,74680.32939994647,74807.39956889284,74934.46973783924,75315.6802446784,75696.89075151757,75951.03108941033,75951.03108941033,75951.03108941033,76205.17142730311,76713.45210308867,76713.45210308867,76840.52227203506,76967.59244098145,77348.8029478206,77348.8029478206,77475.873116767,77602.94328571338,77984.15379255255,77984.15379255255,78111.22396149894,78111.22396149894,78492.43446833809,78619.5046372845,79508.9958199092,80017.27649569476,80271.41683358753,80779.69750937309,80779.69750937309,81033.83784726585,81160.90801621226,81287.97818515863,81415.04835410503,82812.82021251529,83066.96055040807,83321.10088830085,85227.15342249666,85608.36392933583,85989.574436175,86370.78494301415,87133.20595669249,88403.90764615638,88785.11815299554,89801.67950456662,89801.67950456662,89928.74967351303,90055.8198424594,90309.96018035218,91326.5215319233,91453.59170086967,91961.87237665523,93232.57406611912,93740.85474190465,93740.85474190465,96409.32828977882,97425.8896413499,97807.10014818909,98315.38082397464,98950.73166870658,99331.94217554573,103906.46825761572,112547.23974597009],\"yaxis\":\"y\"}],                        {\"legend\":{\"tracegroupgap\":0},\"margin\":{\"t\":60},\"template\":{\"data\":{\"bar\":[{\"error_x\":{\"color\":\"#2a3f5f\"},\"error_y\":{\"color\":\"#2a3f5f\"},\"marker\":{\"line\":{\"color\":\"#E5ECF6\",\"width\":0.5},\"pattern\":{\"fillmode\":\"overlay\",\"size\":10,\"solidity\":0.2}},\"type\":\"bar\"}],\"barpolar\":[{\"marker\":{\"line\":{\"color\":\"#E5ECF6\",\"width\":0.5},\"pattern\":{\"fillmode\":\"overlay\",\"size\":10,\"solidity\":0.2}},\"type\":\"barpolar\"}],\"carpet\":[{\"aaxis\":{\"endlinecolor\":\"#2a3f5f\",\"gridcolor\":\"white\",\"linecolor\":\"white\",\"minorgridcolor\":\"white\",\"startlinecolor\":\"#2a3f5f\"},\"baxis\":{\"endlinecolor\":\"#2a3f5f\",\"gridcolor\":\"white\",\"linecolor\":\"white\",\"minorgridcolor\":\"white\",\"startlinecolor\":\"#2a3f5f\"},\"type\":\"carpet\"}],\"choropleth\":[{\"colorbar\":{\"outlinewidth\":0,\"ticks\":\"\"},\"type\":\"choropleth\"}],\"contour\":[{\"colorbar\":{\"outlinewidth\":0,\"ticks\":\"\"},\"colorscale\":[[0.0,\"#0d0887\"],[0.1111111111111111,\"#46039f\"],[0.2222222222222222,\"#7201a8\"],[0.3333333333333333,\"#9c179e\"],[0.4444444444444444,\"#bd3786\"],[0.5555555555555556,\"#d8576b\"],[0.6666666666666666,\"#ed7953\"],[0.7777777777777778,\"#fb9f3a\"],[0.8888888888888888,\"#fdca26\"],[1.0,\"#f0f921\"]],\"type\":\"contour\"}],\"contourcarpet\":[{\"colorbar\":{\"outlinewidth\":0,\"ticks\":\"\"},\"type\":\"contourcarpet\"}],\"heatmap\":[{\"colorbar\":{\"outlinewidth\":0,\"ticks\":\"\"},\"colorscale\":[[0.0,\"#0d0887\"],[0.1111111111111111,\"#46039f\"],[0.2222222222222222,\"#7201a8\"],[0.3333333333333333,\"#9c179e\"],[0.4444444444444444,\"#bd3786\"],[0.5555555555555556,\"#d8576b\"],[0.6666666666666666,\"#ed7953\"],[0.7777777777777778,\"#fb9f3a\"],[0.8888888888888888,\"#fdca26\"],[1.0,\"#f0f921\"]],\"type\":\"heatmap\"}],\"heatmapgl\":[{\"colorbar\":{\"outlinewidth\":0,\"ticks\":\"\"},\"colorscale\":[[0.0,\"#0d0887\"],[0.1111111111111111,\"#46039f\"],[0.2222222222222222,\"#7201a8\"],[0.3333333333333333,\"#9c179e\"],[0.4444444444444444,\"#bd3786\"],[0.5555555555555556,\"#d8576b\"],[0.6666666666666666,\"#ed7953\"],[0.7777777777777778,\"#fb9f3a\"],[0.8888888888888888,\"#fdca26\"],[1.0,\"#f0f921\"]],\"type\":\"heatmapgl\"}],\"histogram\":[{\"marker\":{\"pattern\":{\"fillmode\":\"overlay\",\"size\":10,\"solidity\":0.2}},\"type\":\"histogram\"}],\"histogram2d\":[{\"colorbar\":{\"outlinewidth\":0,\"ticks\":\"\"},\"colorscale\":[[0.0,\"#0d0887\"],[0.1111111111111111,\"#46039f\"],[0.2222222222222222,\"#7201a8\"],[0.3333333333333333,\"#9c179e\"],[0.4444444444444444,\"#bd3786\"],[0.5555555555555556,\"#d8576b\"],[0.6666666666666666,\"#ed7953\"],[0.7777777777777778,\"#fb9f3a\"],[0.8888888888888888,\"#fdca26\"],[1.0,\"#f0f921\"]],\"type\":\"histogram2d\"}],\"histogram2dcontour\":[{\"colorbar\":{\"outlinewidth\":0,\"ticks\":\"\"},\"colorscale\":[[0.0,\"#0d0887\"],[0.1111111111111111,\"#46039f\"],[0.2222222222222222,\"#7201a8\"],[0.3333333333333333,\"#9c179e\"],[0.4444444444444444,\"#bd3786\"],[0.5555555555555556,\"#d8576b\"],[0.6666666666666666,\"#ed7953\"],[0.7777777777777778,\"#fb9f3a\"],[0.8888888888888888,\"#fdca26\"],[1.0,\"#f0f921\"]],\"type\":\"histogram2dcontour\"}],\"mesh3d\":[{\"colorbar\":{\"outlinewidth\":0,\"ticks\":\"\"},\"type\":\"mesh3d\"}],\"parcoords\":[{\"line\":{\"colorbar\":{\"outlinewidth\":0,\"ticks\":\"\"}},\"type\":\"parcoords\"}],\"pie\":[{\"automargin\":true,\"type\":\"pie\"}],\"scatter\":[{\"marker\":{\"colorbar\":{\"outlinewidth\":0,\"ticks\":\"\"}},\"type\":\"scatter\"}],\"scatter3d\":[{\"line\":{\"colorbar\":{\"outlinewidth\":0,\"ticks\":\"\"}},\"marker\":{\"colorbar\":{\"outlinewidth\":0,\"ticks\":\"\"}},\"type\":\"scatter3d\"}],\"scattercarpet\":[{\"marker\":{\"colorbar\":{\"outlinewidth\":0,\"ticks\":\"\"}},\"type\":\"scattercarpet\"}],\"scattergeo\":[{\"marker\":{\"colorbar\":{\"outlinewidth\":0,\"ticks\":\"\"}},\"type\":\"scattergeo\"}],\"scattergl\":[{\"marker\":{\"colorbar\":{\"outlinewidth\":0,\"ticks\":\"\"}},\"type\":\"scattergl\"}],\"scattermapbox\":[{\"marker\":{\"colorbar\":{\"outlinewidth\":0,\"ticks\":\"\"}},\"type\":\"scattermapbox\"}],\"scatterpolar\":[{\"marker\":{\"colorbar\":{\"outlinewidth\":0,\"ticks\":\"\"}},\"type\":\"scatterpolar\"}],\"scatterpolargl\":[{\"marker\":{\"colorbar\":{\"outlinewidth\":0,\"ticks\":\"\"}},\"type\":\"scatterpolargl\"}],\"scatterternary\":[{\"marker\":{\"colorbar\":{\"outlinewidth\":0,\"ticks\":\"\"}},\"type\":\"scatterternary\"}],\"surface\":[{\"colorbar\":{\"outlinewidth\":0,\"ticks\":\"\"},\"colorscale\":[[0.0,\"#0d0887\"],[0.1111111111111111,\"#46039f\"],[0.2222222222222222,\"#7201a8\"],[0.3333333333333333,\"#9c179e\"],[0.4444444444444444,\"#bd3786\"],[0.5555555555555556,\"#d8576b\"],[0.6666666666666666,\"#ed7953\"],[0.7777777777777778,\"#fb9f3a\"],[0.8888888888888888,\"#fdca26\"],[1.0,\"#f0f921\"]],\"type\":\"surface\"}],\"table\":[{\"cells\":{\"fill\":{\"color\":\"#EBF0F8\"},\"line\":{\"color\":\"white\"}},\"header\":{\"fill\":{\"color\":\"#C8D4E3\"},\"line\":{\"color\":\"white\"}},\"type\":\"table\"}]},\"layout\":{\"annotationdefaults\":{\"arrowcolor\":\"#2a3f5f\",\"arrowhead\":0,\"arrowwidth\":1},\"autotypenumbers\":\"strict\",\"coloraxis\":{\"colorbar\":{\"outlinewidth\":0,\"ticks\":\"\"}},\"colorscale\":{\"diverging\":[[0,\"#8e0152\"],[0.1,\"#c51b7d\"],[0.2,\"#de77ae\"],[0.3,\"#f1b6da\"],[0.4,\"#fde0ef\"],[0.5,\"#f7f7f7\"],[0.6,\"#e6f5d0\"],[0.7,\"#b8e186\"],[0.8,\"#7fbc41\"],[0.9,\"#4d9221\"],[1,\"#276419\"]],\"sequential\":[[0.0,\"#0d0887\"],[0.1111111111111111,\"#46039f\"],[0.2222222222222222,\"#7201a8\"],[0.3333333333333333,\"#9c179e\"],[0.4444444444444444,\"#bd3786\"],[0.5555555555555556,\"#d8576b\"],[0.6666666666666666,\"#ed7953\"],[0.7777777777777778,\"#fb9f3a\"],[0.8888888888888888,\"#fdca26\"],[1.0,\"#f0f921\"]],\"sequentialminus\":[[0.0,\"#0d0887\"],[0.1111111111111111,\"#46039f\"],[0.2222222222222222,\"#7201a8\"],[0.3333333333333333,\"#9c179e\"],[0.4444444444444444,\"#bd3786\"],[0.5555555555555556,\"#d8576b\"],[0.6666666666666666,\"#ed7953\"],[0.7777777777777778,\"#fb9f3a\"],[0.8888888888888888,\"#fdca26\"],[1.0,\"#f0f921\"]]},\"colorway\":[\"#636efa\",\"#EF553B\",\"#00cc96\",\"#ab63fa\",\"#FFA15A\",\"#19d3f3\",\"#FF6692\",\"#B6E880\",\"#FF97FF\",\"#FECB52\"],\"font\":{\"color\":\"#2a3f5f\"},\"geo\":{\"bgcolor\":\"white\",\"lakecolor\":\"white\",\"landcolor\":\"#E5ECF6\",\"showlakes\":true,\"showland\":true,\"subunitcolor\":\"white\"},\"hoverlabel\":{\"align\":\"left\"},\"hovermode\":\"closest\",\"mapbox\":{\"style\":\"light\"},\"paper_bgcolor\":\"white\",\"plot_bgcolor\":\"#E5ECF6\",\"polar\":{\"angularaxis\":{\"gridcolor\":\"white\",\"linecolor\":\"white\",\"ticks\":\"\"},\"bgcolor\":\"#E5ECF6\",\"radialaxis\":{\"gridcolor\":\"white\",\"linecolor\":\"white\",\"ticks\":\"\"}},\"scene\":{\"xaxis\":{\"backgroundcolor\":\"#E5ECF6\",\"gridcolor\":\"white\",\"gridwidth\":2,\"linecolor\":\"white\",\"showbackground\":true,\"ticks\":\"\",\"zerolinecolor\":\"white\"},\"yaxis\":{\"backgroundcolor\":\"#E5ECF6\",\"gridcolor\":\"white\",\"gridwidth\":2,\"linecolor\":\"white\",\"showbackground\":true,\"ticks\":\"\",\"zerolinecolor\":\"white\"},\"zaxis\":{\"backgroundcolor\":\"#E5ECF6\",\"gridcolor\":\"white\",\"gridwidth\":2,\"linecolor\":\"white\",\"showbackground\":true,\"ticks\":\"\",\"zerolinecolor\":\"white\"}},\"shapedefaults\":{\"line\":{\"color\":\"#2a3f5f\"}},\"ternary\":{\"aaxis\":{\"gridcolor\":\"white\",\"linecolor\":\"white\",\"ticks\":\"\"},\"baxis\":{\"gridcolor\":\"white\",\"linecolor\":\"white\",\"ticks\":\"\"},\"bgcolor\":\"#E5ECF6\",\"caxis\":{\"gridcolor\":\"white\",\"linecolor\":\"white\",\"ticks\":\"\"}},\"title\":{\"x\":0.05},\"xaxis\":{\"automargin\":true,\"gridcolor\":\"white\",\"linecolor\":\"white\",\"ticks\":\"\",\"title\":{\"standoff\":15},\"zerolinecolor\":\"white\",\"zerolinewidth\":2},\"yaxis\":{\"automargin\":true,\"gridcolor\":\"white\",\"linecolor\":\"white\",\"ticks\":\"\",\"title\":{\"standoff\":15},\"zerolinecolor\":\"white\",\"zerolinewidth\":2}}},\"xaxis\":{\"anchor\":\"y\",\"domain\":[0.0,1.0],\"title\":{\"text\":\"College%\"}},\"yaxis\":{\"anchor\":\"x\",\"domain\":[0.0,1.0],\"title\":{\"text\":\"Median Income\"}}},                        {\"responsive\": true}                    ).then(function(){\n",
       "                            \n",
       "var gd = document.getElementById('65e493f6-bde6-426e-972f-6a696f3277a5');\n",
       "var x = new MutationObserver(function (mutations, observer) {{\n",
       "        var display = window.getComputedStyle(gd).display;\n",
       "        if (!display || display === 'none') {{\n",
       "            console.log([gd, 'removed!']);\n",
       "            Plotly.purge(gd);\n",
       "            observer.disconnect();\n",
       "        }}\n",
       "}});\n",
       "\n",
       "// Listen for the removal of the full notebook cells\n",
       "var notebookContainer = gd.closest('#notebook-container');\n",
       "if (notebookContainer) {{\n",
       "    x.observe(notebookContainer, {childList: true});\n",
       "}}\n",
       "\n",
       "// Listen for the clearing of the current output cell\n",
       "var outputEl = gd.closest('.output');\n",
       "if (outputEl) {{\n",
       "    x.observe(outputEl, {childList: true});\n",
       "}}\n",
       "\n",
       "                        })                };                });            </script>        </div>"
      ]
     },
     "metadata": {},
     "output_type": "display_data"
    }
   ],
   "source": [
    "px.scatter(demographics, x= 'College%', y = 'Median Income', trendline = 'ols')"
   ]
  },
  {
   "cell_type": "markdown",
   "id": "12ef2cab-fdb1-479e-9ba8-2264e6dc8a28",
   "metadata": {},
   "source": [
    "8. Find and plot residuals."
   ]
  },
  {
   "cell_type": "code",
   "execution_count": 56,
   "id": "36bf3363-27c9-4e23-9404-7eb1a4d84421",
   "metadata": {},
   "outputs": [],
   "source": [
    "#Creates another table with a new column that shows predictions, and another that show residuals\n",
    "def residuals(table, x_column, y_column):\n",
    "    xi = table[x_column]\n",
    "    yi = table[y_column]\n",
    "    xbar = np.average(xi)\n",
    "    ybar = np.average(yi)\n",
    "    def slope_econ(table, x_column, y_column):\n",
    "        return np.sum((xi-xbar)*(yi-ybar)) / np.sum((xi-xbar)**2)\n",
    "    b1 = slope_econ(table, x_column, y_column)\n",
    "    def econ_intercept(table, x_column, y_column):\n",
    "        b1 = slope_econ(table, x_column, y_column)\n",
    "        return ybar-b1*xbar\n",
    "    b0 = econ_intercept(table,x_column, y_column)\n",
    "    table['Predicted Values'] = b0 + b1*xi\n",
    "    table['Residuals'] = yi - table['Predicted Values']\n",
    "    return table"
   ]
  },
  {
   "cell_type": "code",
   "execution_count": 57,
   "id": "32e4c8eb-590b-4a29-b2aa-874c3d5572c1",
   "metadata": {},
   "outputs": [
    {
     "data": {
      "text/html": [
       "<div>\n",
       "<style scoped>\n",
       "    .dataframe tbody tr th:only-of-type {\n",
       "        vertical-align: middle;\n",
       "    }\n",
       "\n",
       "    .dataframe tbody tr th {\n",
       "        vertical-align: top;\n",
       "    }\n",
       "\n",
       "    .dataframe thead th {\n",
       "        text-align: right;\n",
       "    }\n",
       "</style>\n",
       "<table border=\"1\" class=\"dataframe\">\n",
       "  <thead>\n",
       "    <tr style=\"text-align: right;\">\n",
       "      <th></th>\n",
       "      <th>Median Income</th>\n",
       "      <th>College%</th>\n",
       "      <th>Predicted Values</th>\n",
       "      <th>Residuals</th>\n",
       "    </tr>\n",
       "  </thead>\n",
       "  <tbody>\n",
       "    <tr>\n",
       "      <th>0</th>\n",
       "      <td>47083</td>\n",
       "      <td>24.0</td>\n",
       "      <td>51299.418314</td>\n",
       "      <td>-4216.418314</td>\n",
       "    </tr>\n",
       "    <tr>\n",
       "      <th>1</th>\n",
       "      <td>42035</td>\n",
       "      <td>21.8</td>\n",
       "      <td>48503.874597</td>\n",
       "      <td>-6468.874597</td>\n",
       "    </tr>\n",
       "    <tr>\n",
       "      <th>2</th>\n",
       "      <td>46544</td>\n",
       "      <td>22.8</td>\n",
       "      <td>49774.576286</td>\n",
       "      <td>-3230.576286</td>\n",
       "    </tr>\n",
       "    <tr>\n",
       "      <th>3</th>\n",
       "      <td>41110</td>\n",
       "      <td>17.0</td>\n",
       "      <td>42404.506488</td>\n",
       "      <td>-1294.506488</td>\n",
       "    </tr>\n",
       "    <tr>\n",
       "      <th>4</th>\n",
       "      <td>51690</td>\n",
       "      <td>30.3</td>\n",
       "      <td>59304.838957</td>\n",
       "      <td>-7614.838957</td>\n",
       "    </tr>\n",
       "    <tr>\n",
       "      <th>...</th>\n",
       "      <td>...</td>\n",
       "      <td>...</td>\n",
       "      <td>...</td>\n",
       "      <td>...</td>\n",
       "    </tr>\n",
       "    <tr>\n",
       "      <th>430</th>\n",
       "      <td>68162</td>\n",
       "      <td>36.9</td>\n",
       "      <td>67691.470108</td>\n",
       "      <td>470.529892</td>\n",
       "    </tr>\n",
       "    <tr>\n",
       "      <th>431</th>\n",
       "      <td>57129</td>\n",
       "      <td>26.4</td>\n",
       "      <td>54349.102369</td>\n",
       "      <td>2779.897631</td>\n",
       "    </tr>\n",
       "    <tr>\n",
       "      <th>432</th>\n",
       "      <td>51738</td>\n",
       "      <td>23.1</td>\n",
       "      <td>50155.786793</td>\n",
       "      <td>1582.213207</td>\n",
       "    </tr>\n",
       "    <tr>\n",
       "      <th>433</th>\n",
       "      <td>57888</td>\n",
       "      <td>25.4</td>\n",
       "      <td>53078.400679</td>\n",
       "      <td>4809.599321</td>\n",
       "    </tr>\n",
       "    <tr>\n",
       "      <th>434</th>\n",
       "      <td>59882</td>\n",
       "      <td>27.1</td>\n",
       "      <td>55238.593551</td>\n",
       "      <td>4643.406449</td>\n",
       "    </tr>\n",
       "  </tbody>\n",
       "</table>\n",
       "<p>435 rows × 4 columns</p>\n",
       "</div>"
      ],
      "text/plain": [
       "     Median Income  College%  Predicted Values    Residuals\n",
       "0            47083      24.0      51299.418314 -4216.418314\n",
       "1            42035      21.8      48503.874597 -6468.874597\n",
       "2            46544      22.8      49774.576286 -3230.576286\n",
       "3            41110      17.0      42404.506488 -1294.506488\n",
       "4            51690      30.3      59304.838957 -7614.838957\n",
       "..             ...       ...               ...          ...\n",
       "430          68162      36.9      67691.470108   470.529892\n",
       "431          57129      26.4      54349.102369  2779.897631\n",
       "432          51738      23.1      50155.786793  1582.213207\n",
       "433          57888      25.4      53078.400679  4809.599321\n",
       "434          59882      27.1      55238.593551  4643.406449\n",
       "\n",
       "[435 rows x 4 columns]"
      ]
     },
     "execution_count": 57,
     "metadata": {},
     "output_type": "execute_result"
    }
   ],
   "source": [
    "#example\n",
    "residuals = residuals(demographics, \"College%\", \"Median Income\")\n",
    "residuals"
   ]
  },
  {
   "cell_type": "markdown",
   "id": "af11cf36-ceff-4950-926a-9d5b5b67f280",
   "metadata": {},
   "source": [
    "8. Using RMSE to fit a quadratic function to a data set.\n",
    "\n",
    "Not the best example. But this is more so a store of function.\n",
    "The function defined at 'quad_fit' can be interchanged with other functions if one sees one that works."
   ]
  },
  {
   "cell_type": "code",
   "execution_count": 64,
   "id": "6aa73394-66aa-425e-9077-fd9e025750f9",
   "metadata": {},
   "outputs": [],
   "source": [
    "#Creates a simple graph that graphs the new predicted values on a scatter plot.\n",
    "def quad_fit_descriptive(table, x, y):\n",
    "    #Nest a function that returns an array that correlates to the a, b, and c values of a quadratic function.\n",
    "    #This quadratic function minimizes the RMSE of a quadratic function given table, x, and y.\n",
    "    #This will be used for a best fit line.\n",
    "    def quad_minimize(table, x, y):\n",
    "        xv = table[x].values\n",
    "        yv = table[y].values\n",
    "        #Determines a quadratic output given a, b, c.\n",
    "        #Values xv and yv need to be defined also.\n",
    "        def quadratic_define_and_rmse(a,b,c):\n",
    "            quad_fit = a*(xv**2) + b*xv + c\n",
    "            #Returns RMSE given a, b, and c.\n",
    "            return np.sqrt(np.mean((yv-quad_fit)**2))\n",
    "        #Minimize function determines the a, b, and c values that minimize RMSE\n",
    "        abcminimized = minimize(quadratic_define_and_rmse)\n",
    "        return abcminimized\n",
    "    abc_quad = quad_minimize(table, x, y)\n",
    "    xvalues = table[x]\n",
    "    predicted_table = table.copy()\n",
    "    #Compute the predicted value for every x and add it to the table.\n",
    "    predicted_table['predicted'] = abc_quad[0]*xvalues**2 + abc_quad[1]*xvalues +abc_quad[2]\n",
    "    #Compute the residuals between predicted values and acutal values and add them to the table.\n",
    "    residual = table[y] - predicted_table['predicted']\n",
    "    predicted_table['residual'] = residual\n",
    "    #Prints the estimated regression line.\n",
    "    print('Predicted y Value =',round((abc_quad[0]),3),'x^2 +',round((abc_quad[1]), 3),'x +',round((abc_quad[2]),3))\n",
    "    #Finds and prints the RMSE of the regression.\n",
    "    abc_rmse = np.sqrt(np.average((residual)**2))\n",
    "    print('RMSE = ', np.round(abc_rmse,2))\n",
    "    #Shows the predicted data as a line and scatters the actual points.\n",
    "    plots.plot(table[x], predicted_table['predicted'])\n",
    "    plots.scatter(predicted_table[x], predicted_table[y]);\n",
    "    plots.title('Best Fit Line for Compared Data')\n",
    "    plots.xlabel(x)\n",
    "    plots.ylabel(y)\n",
    "    plots.show();\n",
    "    #Create a scatter plot that shows the residuals around the best fit line.\n",
    "    #This is to visually look to see if there is a clustered pattern.\n",
    "    #This is also to visually check to see how clustered the residuals are around the best fit.\n",
    "    xlims = make_array(min(xvalues), max(xvalues))\n",
    "    plots.plot(xlims, make_array(0, 0), color='darkblue', lw=4); \n",
    "    plots.scatter(predicted_table[x], predicted_table['residual']);\n",
    "    plots.title('Residual Plot of Compared Data')\n",
    "    plots.xlabel(x)\n",
    "    plots.ylabel('residual')\n",
    "    plots.show();"
   ]
  },
  {
   "cell_type": "code",
   "execution_count": 65,
   "id": "ac66896b-219a-4d5e-b1b8-d8ff1cbe140e",
   "metadata": {},
   "outputs": [
    {
     "name": "stdout",
     "output_type": "stream",
     "text": [
      "Predicted y Value = 6.054 x^2 + 843.36 x + 27553.63\n",
      "RMSE =  9351.55\n"
     ]
    },
    {
     "data": {
      "image/png": "[encoded data removed]",
      "text/plain": [
       "<Figure size 432x288 with 1 Axes>"
      ]
     },
     "metadata": {
      "needs_background": "light"
     },
     "output_type": "display_data"
    },
    {
     "data": {
      "image/png": "[encoded data removed]",
      "text/plain": [
       "<Figure size 432x288 with 1 Axes>"
      ]
     },
     "metadata": {
      "needs_background": "light"
     },
     "output_type": "display_data"
    }
   ],
   "source": [
    "quad_fit_descriptive(demographics, \"College%\", \"Median Income\");"
   ]
  },
  {
   "cell_type": "markdown",
   "id": "15e5ef14-d3b7-4cc3-bbe9-cf35d9a91337",
   "metadata": {},
   "source": [
    "# 9. Linear Fit Descriptive\n",
    "Creates a best fit line, and descriptive statistics that are relavant"
   ]
  },
  {
   "cell_type": "code",
   "execution_count": 5,
   "id": "94b59ded-ac4a-43d7-9b95-adfaab384289",
   "metadata": {},
   "outputs": [],
   "source": [
    "def linear_regression_descriptive(table, x, y):\n",
    "    xval = table[x]\n",
    "    yval= table[y]\n",
    "    \n",
    "    def correlation(table, x, y):\n",
    "        def standard_units(z):\n",
    "            \"\"\"Converts an array x to standard units\"\"\"\n",
    "            return (z - np.mean(z)) / np.std(z)\n",
    "        x_su = standard_units(x)\n",
    "        y_su = standard_units(y)\n",
    "        return np.mean(x_su * y_su)\n",
    "    correlation = correlation(table, xval, yval)\n",
    "    \n",
    "    def slope_econ(table, x_column, y_column):\n",
    "        xi = table[x_column]\n",
    "        yi = table[y_column]\n",
    "        xbar = np.average(xi)\n",
    "        ybar = np.average(yi)\n",
    "        return np.sum((xi-xbar)*(yi-ybar)) / np.sum((xi-xbar)**2)\n",
    "    slope = slope_econ(table, x, y)\n",
    "    \n",
    "    def intercept(table, x_column, y_column):\n",
    "        xi = table[x_column]\n",
    "        yi = table[y_column]\n",
    "        xbar = np.average(xi)\n",
    "        ybar = np.average(yi)\n",
    "        def slope_econ(table, x_column, y_column):\n",
    "            return np.sum((xi-xbar)*(yi-ybar)) / np.sum((xi-xbar)**2)\n",
    "        slope = slope_econ(table, x_column, y_column)\n",
    "        intercept = np.average(yi-slope*xbar)\n",
    "        return intercept\n",
    "    intercept = intercept(table,x,y)\n",
    "    \n",
    "    predicted = intercept + slope*xval\n",
    "    residuals = yval - predicted\n",
    "    RMSE = np.sqrt(np.mean(residuals**2))\n",
    "    \n",
    "    predicted_table1 = table.copy()\n",
    "    predicted_table1['predicted'] = predicted\n",
    "    predicted_table = predicted_table1.copy()\n",
    "    predicted_table['residuals'] = residuals\n",
    "    \n",
    "    #Prints the estimated regression line.\n",
    "    print('Predicted y Value =', slope, 'x', '+', intercept)\n",
    "    print('r =', correlation)\n",
    "    print('MRSE =', RMSE)\n",
    "    \n",
    "    #Shows the predicted data as a line and scatters the actual points.\n",
    "    plots.plot(table[x], predicted_table['predicted'])\n",
    "    plots.scatter(predicted_table[x], predicted_table[y]);\n",
    "    plots.title('Best Fit Line for Compared Data')\n",
    "    plots.xlabel(x)\n",
    "    plots.ylabel(y)\n",
    "    plots.show();\n",
    "    #Create a scatter plot that shows the residuals around the best fit line.\n",
    "    #This is to visually look to see if there is a clustered pattern.\n",
    "    #This is also to visually check to see how clustered the residuals are around the best fit.\n",
    "    xlims = make_array(min(xval), max(xval))\n",
    "    plots.plot(xlims, make_array(0, 0), color='darkblue', lw=4); \n",
    "    plots.scatter(predicted_table[x], predicted_table['residuals']);\n",
    "    plots.title('Residual Plot of Compared Data')\n",
    "    plots.xlabel(x)\n",
    "    plots.ylabel('residuals')\n",
    "    plots.show();\n",
    "    \n",
    "    return predicted_table"
   ]
  },
  {
   "cell_type": "code",
   "execution_count": 6,
   "id": "b24229e9-e76f-441f-9bd5-cd5d15132978",
   "metadata": {},
   "outputs": [
    {
     "name": "stdout",
     "output_type": "stream",
     "text": [
      "Predicted y Value = 1270.7016894638803 x + 20802.577766677925\n",
      "r = 0.818464851714134\n",
      "Sum of residuals = -2.342858351767063e-09\n",
      "MRSE = 9398.515588571285\n"
     ]
    },
    {
     "data": {
      "image/png": "[encoded data removed]",
      "text/plain": [
       "<Figure size 432x288 with 1 Axes>"
      ]
     },
     "metadata": {
      "needs_background": "light"
     },
     "output_type": "display_data"
    },
    {
     "data": {
      "image/png": "[encoded data removed]",
      "text/plain": [
       "<Figure size 432x288 with 1 Axes>"
      ]
     },
     "metadata": {
      "needs_background": "light"
     },
     "output_type": "display_data"
    },
    {
     "data": {
      "text/html": [
       "<div>\n",
       "<style scoped>\n",
       "    .dataframe tbody tr th:only-of-type {\n",
       "        vertical-align: middle;\n",
       "    }\n",
       "\n",
       "    .dataframe tbody tr th {\n",
       "        vertical-align: top;\n",
       "    }\n",
       "\n",
       "    .dataframe thead th {\n",
       "        text-align: right;\n",
       "    }\n",
       "</style>\n",
       "<table border=\"1\" class=\"dataframe\">\n",
       "  <thead>\n",
       "    <tr style=\"text-align: right;\">\n",
       "      <th></th>\n",
       "      <th>Median Income</th>\n",
       "      <th>College%</th>\n",
       "      <th>predicted</th>\n",
       "      <th>residuals</th>\n",
       "    </tr>\n",
       "  </thead>\n",
       "  <tbody>\n",
       "    <tr>\n",
       "      <th>0</th>\n",
       "      <td>47083</td>\n",
       "      <td>24.0</td>\n",
       "      <td>51299.418314</td>\n",
       "      <td>-4216.418314</td>\n",
       "    </tr>\n",
       "    <tr>\n",
       "      <th>1</th>\n",
       "      <td>42035</td>\n",
       "      <td>21.8</td>\n",
       "      <td>48503.874597</td>\n",
       "      <td>-6468.874597</td>\n",
       "    </tr>\n",
       "    <tr>\n",
       "      <th>2</th>\n",
       "      <td>46544</td>\n",
       "      <td>22.8</td>\n",
       "      <td>49774.576286</td>\n",
       "      <td>-3230.576286</td>\n",
       "    </tr>\n",
       "    <tr>\n",
       "      <th>3</th>\n",
       "      <td>41110</td>\n",
       "      <td>17.0</td>\n",
       "      <td>42404.506488</td>\n",
       "      <td>-1294.506488</td>\n",
       "    </tr>\n",
       "    <tr>\n",
       "      <th>4</th>\n",
       "      <td>51690</td>\n",
       "      <td>30.3</td>\n",
       "      <td>59304.838957</td>\n",
       "      <td>-7614.838957</td>\n",
       "    </tr>\n",
       "    <tr>\n",
       "      <th>...</th>\n",
       "      <td>...</td>\n",
       "      <td>...</td>\n",
       "      <td>...</td>\n",
       "      <td>...</td>\n",
       "    </tr>\n",
       "    <tr>\n",
       "      <th>430</th>\n",
       "      <td>68162</td>\n",
       "      <td>36.9</td>\n",
       "      <td>67691.470108</td>\n",
       "      <td>470.529892</td>\n",
       "    </tr>\n",
       "    <tr>\n",
       "      <th>431</th>\n",
       "      <td>57129</td>\n",
       "      <td>26.4</td>\n",
       "      <td>54349.102369</td>\n",
       "      <td>2779.897631</td>\n",
       "    </tr>\n",
       "    <tr>\n",
       "      <th>432</th>\n",
       "      <td>51738</td>\n",
       "      <td>23.1</td>\n",
       "      <td>50155.786793</td>\n",
       "      <td>1582.213207</td>\n",
       "    </tr>\n",
       "    <tr>\n",
       "      <th>433</th>\n",
       "      <td>57888</td>\n",
       "      <td>25.4</td>\n",
       "      <td>53078.400679</td>\n",
       "      <td>4809.599321</td>\n",
       "    </tr>\n",
       "    <tr>\n",
       "      <th>434</th>\n",
       "      <td>59882</td>\n",
       "      <td>27.1</td>\n",
       "      <td>55238.593551</td>\n",
       "      <td>4643.406449</td>\n",
       "    </tr>\n",
       "  </tbody>\n",
       "</table>\n",
       "<p>435 rows × 4 columns</p>\n",
       "</div>"
      ],
      "text/plain": [
       "     Median Income  College%     predicted    residuals\n",
       "0            47083      24.0  51299.418314 -4216.418314\n",
       "1            42035      21.8  48503.874597 -6468.874597\n",
       "2            46544      22.8  49774.576286 -3230.576286\n",
       "3            41110      17.0  42404.506488 -1294.506488\n",
       "4            51690      30.3  59304.838957 -7614.838957\n",
       "..             ...       ...           ...          ...\n",
       "430          68162      36.9  67691.470108   470.529892\n",
       "431          57129      26.4  54349.102369  2779.897631\n",
       "432          51738      23.1  50155.786793  1582.213207\n",
       "433          57888      25.4  53078.400679  4809.599321\n",
       "434          59882      27.1  55238.593551  4643.406449\n",
       "\n",
       "[435 rows x 4 columns]"
      ]
     },
     "execution_count": 6,
     "metadata": {},
     "output_type": "execute_result"
    }
   ],
   "source": [
    "linear_regression_descriptive(demographics, \"College%\", \"Median Income\")"
   ]
  },
  {
   "cell_type": "code",
   "execution_count": null,
   "id": "d8616a3d-23de-4dda-94f6-d547ad417b64",
   "metadata": {},
   "outputs": [],
   "source": []
  }
 ],
 "metadata": {
  "kernelspec": {
   "display_name": "Python 3",
   "language": "python",
   "name": "python3"
  },
  "language_info": {
   "codemirror_mode": {
    "name": "ipython",
    "version": 3
   },
   "file_extension": ".py",
   "mimetype": "text/x-python",
   "name": "python",
   "nbconvert_exporter": "python",
   "pygments_lexer": "ipython3",
   "version": "3.8.8"
  }
 },
 "nbformat": 4,
 "nbformat_minor": 5
}
