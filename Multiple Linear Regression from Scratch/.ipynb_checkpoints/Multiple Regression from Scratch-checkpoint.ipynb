{
 "cells": [
  {
   "cell_type": "markdown",
   "id": "6f4c4878-f9c5-4fa2-bf5a-695861fb7161",
   "metadata": {},
   "source": [
    "# Multiple Regression from Scratch"
   ]
  },
  {
   "cell_type": "markdown",
   "id": "662dddcd-bc56-4c88-ba17-6478fe18609e",
   "metadata": {},
   "source": [
    "This is to build a multiple regression model from scratch using the minimize command from the datascience package."
   ]
  },
  {
   "cell_type": "markdown",
   "id": "f7e58a14-7f72-4677-84f8-624fbe095a63",
   "metadata": {},
   "source": [
    "Dictionary"
   ]
  },
  {
   "cell_type": "markdown",
   "id": "ab33f1b4-7413-4410-95df-21c0ce85935c",
   "metadata": {},
   "source": []
  },
  {
   "cell_type": "code",
   "execution_count": null,
   "id": "7480b20b-1b92-43b5-a4a3-8d0072bf57e2",
   "metadata": {},
   "outputs": [],
   "source": []
  }
 ],
 "metadata": {
  "kernelspec": {
   "display_name": "Python 3",
   "language": "python",
   "name": "python3"
  },
  "language_info": {
   "codemirror_mode": {
    "name": "ipython",
    "version": 3
   },
   "file_extension": ".py",
   "mimetype": "text/x-python",
   "name": "python",
   "nbconvert_exporter": "python",
   "pygments_lexer": "ipython3",
   "version": "3.8.8"
  }
 },
 "nbformat": 4,
 "nbformat_minor": 5
}
